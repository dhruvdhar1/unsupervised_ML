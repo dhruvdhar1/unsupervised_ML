{
 "cells": [
  {
   "attachments": {},
   "cell_type": "markdown",
   "metadata": {},
   "source": [
    "### PROBLEM 3 : Gaussian Mixture on toy data\n",
    "##### You are required to implemet the main EM loop, but can use math API/functions provided by your language to calculate normal densities, covariance matrix, etc.\n",
    "- The gaussian 2-dim data on file  2gaussian.txt  has been generated  using a mixture  of  two Gaussians, each  2-dim, with the parameters below. Run the EM algorithm with random initial values to recover the parameters.\n",
    "    - mean_1 [3,3]); cov_1 = [[1,0],[0,3]]; n1=2000 points\n",
    "    - mean_2 =[7,4]; cov_2 = [[1,0.5],[0.5,1]]; ; n2=4000 points\n",
    "    \n",
    "You should obtain a result visually like this (you dont necessarily have to plot it)\n",
    "\n",
    "- Same problem for 2-dim data on file 3gaussian.txt , generated using a mixture of three Gaussians. Verify your  findings against the true parameters used generate the data below.\n",
    "    - mean_1 = [3,3] ; cov_1 = [[1,0],[0,3]]; n1=2000\n",
    "    - mean_2 = [7,4] ; cov_2 = [[1,0.5],[0.5,1]] ; n2=3000\n",
    "    - mean_3 = [5,7] ; cov_3 = [[1,0.2],[0.2,1]]    ); n3=5000\n",
    "\n",
    "----"
   ]
  },
  {
   "attachments": {},
   "cell_type": "markdown",
   "metadata": {},
   "source": [
    "Importing dataset 2gaussian in a numpy array"
   ]
  },
  {
   "cell_type": "code",
   "execution_count": 1,
   "metadata": {},
   "outputs": [],
   "source": [
    "import numpy as np\n",
    "import matplotlib.pyplot as plt\n",
    "\n",
    "inputFile = open(\"./2gaussian.txt\", 'r')\n",
    "num_lines = len(inputFile.readlines())\n",
    "\n",
    "dataset = np.zeros((num_lines, 2))\n",
    "inputFile = open(\"./2gaussian.txt\", 'r')\n",
    "ind = 0\n",
    "for line in inputFile:\n",
    "    points = line.strip().split(\" \")\n",
    "    x = points[0]\n",
    "    y = points[1]\n",
    "    dataset[ind][0] = x\n",
    "    dataset[ind][1] = y\n",
    "    ind += 1\n",
    "\n",
    "# print(\"x: \", dataset[:,0])\n",
    "# print(\"y: \", dataset[:,1])\n",
    "# plt.scatter(dataset[:,0], dataset[:,1])\n",
    "# plt.show()"
   ]
  },
  {
   "attachments": {},
   "cell_type": "markdown",
   "metadata": {},
   "source": [
    "GMM implementation"
   ]
  },
  {
   "cell_type": "code",
   "execution_count": 34,
   "metadata": {},
   "outputs": [],
   "source": [
    "'''\n",
    "Gaussian Mixture Model implementation in python. This implementations is inspired from Oran looney's implementation\n",
    "(ref. https://www.oranlooney.com/post/ml-from-scratch-part-5-gmm/)\n",
    "'''\n",
    "\n",
    "import numpy as np\n",
    "from scipy.stats import multivariate_normal\n",
    "\n",
    "class GaussianMixtureModel:\n",
    "    def __init__(self, k=2, max_iter=50):\n",
    "        self.k = k\n",
    "        self.max_iter = max_iter\n",
    "\n",
    "    def fit(self, X):\n",
    "        self.num_samples, self.num_features = X.shape\n",
    "        \n",
    "        #initialization\n",
    "        self.pi = np.full(shape=(self.num_samples, self.k), fill_value=1)\n",
    "        self.weights = np.full(shape=(self.num_samples, self.k), fill_value=1)\n",
    "        self.mean = X[np.random.choice(self.num_samples, self.k, replace=False)]\n",
    "        self.covariance = [ [1,1] for i in range(self.k) ]\n",
    "\n",
    "        for i in range(self.max_iter):\n",
    "            self.e_step(X)\n",
    "            self.m_step(X)\n",
    "\n",
    "        return self.mean, self.covariance, self.pi\n",
    "\n",
    "    def e_step(self, X):\n",
    "        likelihood = np.zeros( (self.num_samples, self.k) )\n",
    "        for m in range(self.k):\n",
    "            likelihood[:,m] = multivariate_normal(mean=self.mean[m], cov=self.covariance[m]).pdf(X)\n",
    "        self.weights = (likelihood * self.pi)/(likelihood * self.pi).sum(axis=1)[:, np.newaxis]\n",
    "        self.pi = self.weights.mean(axis=0)\n",
    "        \n",
    "\n",
    "    def m_step(self, X):\n",
    "        for i in range(self.k):\n",
    "            weight = self.weights[:, [i]]\n",
    "            total_weight = weight.sum()\n",
    "\n",
    "            self.covariance[i] = np.cov(X.T, \n",
    "                aweights=(weight/total_weight).flatten(), \n",
    "                bias=True)\n",
    "            self.mean[i] = (X * weight).sum(axis=0) / total_weight\n",
    "            \n"
   ]
  },
  {
   "attachments": {},
   "cell_type": "markdown",
   "metadata": {},
   "source": [
    "Running GMM on 2gaussian dataset"
   ]
  },
  {
   "cell_type": "code",
   "execution_count": 35,
   "metadata": {},
   "outputs": [
    {
     "name": "stdout",
     "output_type": "stream",
     "text": [
      "Mean 1:  [2.99413206 3.05209657]  Covariance 1:  [[1.01023465 0.02719135]\n",
      " [0.02719135 2.93782278]] N1:  0.33479580743558174\n",
      "\n",
      "Mean 2:  [7.01314844 3.98313426]  Covariance 2:  [[0.97475871 0.49747019]\n",
      " [0.49747019 1.00114249]] N2:  0.665204192564418\n"
     ]
    }
   ],
   "source": [
    "gmm = GaussianMixtureModel(k=2)\n",
    "mean, cov, pi = gmm.fit(dataset)\n",
    "\n",
    "print(\"Mean 1: \", mean[0], \" Covariance 1: \", cov[0], \"N1: \", pi[0])\n",
    "print(\"\\nMean 2: \", mean[1], \" Covariance 2: \", cov[1], \"N2: \", pi[1])\n"
   ]
  },
  {
   "attachments": {},
   "cell_type": "markdown",
   "metadata": {},
   "source": [
    "Importing dataset 3gaussian in a numpy array"
   ]
  },
  {
   "cell_type": "code",
   "execution_count": 36,
   "metadata": {},
   "outputs": [],
   "source": [
    "import numpy as np\n",
    "import matplotlib.pyplot as plt\n",
    "\n",
    "inputFile = open(\"./3gaussian.txt\", 'r')\n",
    "num_lines = len(inputFile.readlines())\n",
    "\n",
    "dataset2 = np.zeros((num_lines, 2))\n",
    "inputFile = open(\"./3gaussian.txt\", 'r')\n",
    "ind = 0\n",
    "for line in inputFile:\n",
    "    points = line.strip().split(\" \")\n",
    "    x = points[0]\n",
    "    y = points[1]\n",
    "    dataset2[ind][0] = x\n",
    "    dataset2[ind][1] = y\n",
    "    ind += 1\n",
    "\n",
    "# print(\"x: \", dataset[:,0])\n",
    "# print(\"y: \", dataset[:,1])\n",
    "# plt.scatter(dataset[:,0], dataset[:,1])\n",
    "# plt.show()"
   ]
  },
  {
   "attachments": {},
   "cell_type": "markdown",
   "metadata": {},
   "source": [
    "Running GMM on 3gaussian dataset"
   ]
  },
  {
   "cell_type": "code",
   "execution_count": 37,
   "metadata": {},
   "outputs": [
    {
     "name": "stdout",
     "output_type": "stream",
     "text": [
      "Mean 1:  [7.021539   4.01544854]  Covariance 1:  [[0.99045127 0.50097416]\n",
      " [0.50097416 0.99565041]]  N1 0.29843951629533266\n",
      "\n",
      "Mean 2:  [5.01167003 7.00142028]  Covariance 2:  [[0.97978461 0.18520241]\n",
      " [0.18520241 0.97461388]]  N2 0.4959898380406252\n",
      "\n",
      "Mean 3:  [3.0395831  3.04817572]  Covariance 3:  [[1.02841795 0.02661995]\n",
      " [0.02661995 3.38406276]]  N3 0.20557064566404173\n"
     ]
    }
   ],
   "source": [
    "gmm = GaussianMixtureModel(k=3)\n",
    "mean, cov, pi = gmm.fit(dataset2)\n",
    "\n",
    "\n",
    "print(\"Mean 1: \", mean[0], \" Covariance 1: \", cov[0], \" N1\", pi[0])\n",
    "print(\"\\nMean 2: \", mean[1], \" Covariance 2: \", cov[1], \" N2\", pi[1])\n",
    "print(\"\\nMean 3: \", mean[2], \" Covariance 3: \", cov[2], \" N3\", pi[2])\n",
    "\n"
   ]
  }
 ],
 "metadata": {
  "kernelspec": {
   "display_name": "Python 3",
   "language": "python",
   "name": "python3"
  },
  "language_info": {
   "codemirror_mode": {
    "name": "ipython",
    "version": 3
   },
   "file_extension": ".py",
   "mimetype": "text/x-python",
   "name": "python",
   "nbconvert_exporter": "python",
   "pygments_lexer": "ipython3",
   "version": "3.9.6"
  },
  "orig_nbformat": 4
 },
 "nbformat": 4,
 "nbformat_minor": 2
}
