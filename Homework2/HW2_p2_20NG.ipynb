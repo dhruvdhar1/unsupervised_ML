{
 "cells": [
  {
   "attachments": {},
   "cell_type": "markdown",
   "metadata": {},
   "source": [
    "### PROBLEM 2 : KMeans on data \n",
    "\n",
    "##### Using Euclidian distance or dot product similarity (choose one per dataset, you can try other similarity metrics).\n",
    "##### Run KMeans on the 20NG Dataset, try K=20\n",
    "\n",
    "You can use a library for distance/similarity but you have to implement your own kmeans (EM steps, termination criteria etc).\n",
    "For all three datasets, evaluate the KMeans objective for a higher K (for example double) or smaller K(for example half).\n",
    "For all three datasets, evaluate external clustering performance using data labels and performance metrics Purity and Gini Index (see [A] book section 6.9.2).\n",
    "\n",
    "-----"
   ]
  },
  {
   "attachments": {},
   "cell_type": "markdown",
   "metadata": {},
   "source": [
    "The below code imports the 20NG dataset, normalizes it and then splits into train, validation and test."
   ]
  },
  {
   "cell_type": "code",
   "execution_count": 1,
   "metadata": {},
   "outputs": [],
   "source": [
    "import numpy as np\n",
    "import random\n",
    "from sklearn.datasets import fetch_20newsgroups\n",
    "from sklearn.feature_extraction.text import TfidfVectorizer\n",
    "from sklearn.model_selection import train_test_split\n",
    "\n",
    "newsgroups_train = fetch_20newsgroups(subset='train')\n",
    "newsgroups_test = fetch_20newsgroups(subset='test')\n",
    "\n",
    "vectorizer = TfidfVectorizer(stop_words='english')\n",
    "\n",
    "train_data_vector = vectorizer.fit_transform(newsgroups_train.data).toarray()\n",
    "test_data_vector = vectorizer.fit_transform(newsgroups_test.data).toarray()\n",
    "\n",
    "train_labels = newsgroups_train.target\n",
    "test_labels = newsgroups_test.target\n",
    "\n",
    "random_sample_indices = random.sample(range(train_data_vector.shape[0]), 3000)\n",
    "train_data_20 = train_data_vector[random_sample_indices]\n",
    "train_labels_20 = train_labels[random_sample_indices]\n",
    "\n",
    "train_data_final_80, validation_data_final_10, train_labels_final_80,validation_labels_final_10 = train_test_split(train_data_20, train_labels_20, test_size=0.1, random_state=42)"
   ]
  },
  {
   "attachments": {},
   "cell_type": "markdown",
   "metadata": {},
   "source": [
    "Kmeans Implementation"
   ]
  },
  {
   "cell_type": "code",
   "execution_count": 2,
   "metadata": {},
   "outputs": [],
   "source": [
    "from sklearn.metrics.pairwise import euclidean_distances\n",
    "\n",
    "def kmeans(X, num_clusters, max_iterations = 100):\n",
    "\n",
    "    centroids = X[np.random.choice(X.shape[0], num_clusters, replace=False)]\n",
    "    for _ in range(max_iterations):\n",
    "\n",
    "        #E-step\n",
    "        distances = np.linalg.norm(X[:, np.newaxis] - centroids, axis=2)\n",
    "        labels = np.argmin(distances, axis=1)\n",
    "\n",
    "        #M-step\n",
    "        new_centroids = np.array([X[labels == k].mean(axis=0) for k in range(num_clusters)])\n",
    "\n",
    "        if np.all(centroids == new_centroids):\n",
    "            break\n",
    "\n",
    "        centroids = new_centroids\n",
    "\n",
    "    return labels, centroids"
   ]
  },
  {
   "cell_type": "code",
   "execution_count": 3,
   "metadata": {},
   "outputs": [],
   "source": [
    "# labels, centroids = kmeans(train_data_20, 10)\n",
    "labels, centroids = kmeans(validation_data_final_10, 10)"
   ]
  },
  {
   "attachments": {},
   "cell_type": "markdown",
   "metadata": {},
   "source": [
    "Calculating Purity"
   ]
  },
  {
   "cell_type": "code",
   "execution_count": 4,
   "metadata": {},
   "outputs": [
    {
     "name": "stdout",
     "output_type": "stream",
     "text": [
      "Purity: 0.24333333333333335\n"
     ]
    }
   ],
   "source": [
    "def calculate_accuracy(true_labels, cluster_labels):\n",
    "    accuracy = 0\n",
    "    for i in range(len(np.unique(cluster_labels))):\n",
    "        mask = cluster_labels == i\n",
    "        correct_label = np.argmax(np.bincount(true_labels[mask]))\n",
    "        accuracy += np.sum(true_labels[mask] == correct_label)\n",
    "    return accuracy / len(true_labels)\n",
    "\n",
    "accuracy = calculate_accuracy(validation_labels_final_10, labels)\n",
    "print(\"Purity:\", accuracy)"
   ]
  },
  {
   "attachments": {},
   "cell_type": "markdown",
   "metadata": {},
   "source": [
    "Calculating Gini index"
   ]
  },
  {
   "cell_type": "code",
   "execution_count": 5,
   "metadata": {},
   "outputs": [],
   "source": [
    "def calculate_gini(labels):\n",
    "    _, counts = np.unique(labels, return_counts=True)\n",
    "    probabilities = counts / len(labels)\n",
    "    gini_index = 1 - np.sum(probabilities ** 2)\n",
    "    return gini_index"
   ]
  },
  {
   "cell_type": "code",
   "execution_count": 6,
   "metadata": {},
   "outputs": [
    {
     "name": "stdout",
     "output_type": "stream",
     "text": [
      "Gini index: 0.8497111111111111\n"
     ]
    }
   ],
   "source": [
    "gini1 = calculate_gini(labels)\n",
    "print(\"Gini index:\", gini1)"
   ]
  },
  {
   "cell_type": "code",
   "execution_count": 7,
   "metadata": {},
   "outputs": [
    {
     "name": "stdout",
     "output_type": "stream",
     "text": [
      "Purity: 0.30333333333333334\n",
      "Gini index: 0.9248444444444445\n"
     ]
    }
   ],
   "source": [
    "labels, centroids = kmeans(validation_data_final_10, 20)\n",
    "accuracy = calculate_accuracy(validation_labels_final_10, labels)\n",
    "print(\"Purity:\", accuracy)\n",
    "gini1 = calculate_gini(labels)\n",
    "print(\"Gini index:\", gini1)"
   ]
  },
  {
   "cell_type": "code",
   "execution_count": 8,
   "metadata": {},
   "outputs": [
    {
     "name": "stdout",
     "output_type": "stream",
     "text": [
      "Purity: 0.17\n",
      "Gini index: 0.7424222222222222\n"
     ]
    }
   ],
   "source": [
    "labels, centroids = kmeans(validation_data_final_10, 5)\n",
    "accuracy = calculate_accuracy(validation_labels_final_10, labels)\n",
    "print(\"Purity:\", accuracy)\n",
    "gini1 = calculate_gini(labels)\n",
    "print(\"Gini index:\", gini1)"
   ]
  }
 ],
 "metadata": {
  "kernelspec": {
   "display_name": "Python 3",
   "language": "python",
   "name": "python3"
  },
  "language_info": {
   "codemirror_mode": {
    "name": "ipython",
    "version": 3
   },
   "file_extension": ".py",
   "mimetype": "text/x-python",
   "name": "python",
   "nbconvert_exporter": "python",
   "pygments_lexer": "ipython3",
   "version": "3.9.6"
  },
  "orig_nbformat": 4
 },
 "nbformat": 4,
 "nbformat_minor": 2
}
