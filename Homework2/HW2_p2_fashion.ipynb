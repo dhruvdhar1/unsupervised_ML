{
 "cells": [
  {
   "attachments": {},
   "cell_type": "markdown",
   "metadata": {},
   "source": [
    "### PROBLEM 2 : KMeans on data \n",
    "\n",
    "##### Using Euclidian distance or dot product similarity (choose one per dataset, you can try other similarity metrics).\n",
    "##### Run KMeans on the FASHION Dataset, try K=10\n",
    "\n",
    "You can use a library for distance/similarity but you have to implement your own kmeans (EM steps, termination criteria etc).\n",
    "For all three datasets, evaluate the KMeans objective for a higher K (for example double) or smaller K(for example half).\n",
    "For all three datasets, evaluate external clustering performance using data labels and performance metrics Purity and Gini Index (see [A] book section 6.9.2).\n",
    "\n",
    "-----"
   ]
  },
  {
   "attachments": {},
   "cell_type": "markdown",
   "metadata": {},
   "source": [
    "The below code imports the Fashion MNIST dataset, reshapes and normalizes it and then splits into train, validation and test."
   ]
  },
  {
   "cell_type": "code",
   "execution_count": 1,
   "metadata": {},
   "outputs": [
    {
     "name": "stdout",
     "output_type": "stream",
     "text": [
      "Final train dataset size:  (18000, 784)\n",
      "Final validation dataset size:  (2000, 784)\n"
     ]
    }
   ],
   "source": [
    "import numpy as np\n",
    "import random\n",
    "from keras.datasets import fashion_mnist\n",
    "from sklearn.preprocessing import MinMaxScaler\n",
    "from sklearn.model_selection import train_test_split\n",
    "\n",
    "(trainX, trainy), (testX, testy) = fashion_mnist.load_data()\n",
    "\n",
    "#reshaping images\n",
    "trainX = np.reshape(trainX, (-1, 784))\n",
    "testX = np.reshape(testX, (-1, 784))\n",
    "\n",
    "# normalize\n",
    "scaler = MinMaxScaler()\n",
    "trainX = scaler.fit_transform(trainX)\n",
    "testX = scaler.transform(testX)\n",
    "\n",
    "random_sample_indices = random.sample(range(trainX.shape[0]), 20000)\n",
    "train_images_25 = trainX[random_sample_indices]\n",
    "train_labels_25 = trainy[random_sample_indices]\n",
    "\n",
    "train_images_final_80, validation_images_final_10, train_labels_final_80,validation_labels_final_10 = train_test_split(train_images_25, train_labels_25, test_size=0.1, random_state=42)\n",
    "\n",
    "print(\"Final train dataset size: \", train_images_final_80.shape)\n",
    "print(\"Final validation dataset size: \", validation_images_final_10.shape)"
   ]
  },
  {
   "attachments": {},
   "cell_type": "markdown",
   "metadata": {},
   "source": [
    "KMeans implementation"
   ]
  },
  {
   "cell_type": "code",
   "execution_count": 2,
   "metadata": {},
   "outputs": [],
   "source": [
    "def kmeans(X, num_clusters, max_iterations = 100):\n",
    "    centroids = X[np.random.choice(X.shape[0], num_clusters, replace=False)]\n",
    "    for _ in range(max_iterations):\n",
    "\n",
    "        #E-step\n",
    "        distances = np.linalg.norm(X[:, np.newaxis] - centroids, axis=2)\n",
    "        labels = np.argmin(distances, axis=1)\n",
    "        \n",
    "        #M-step\n",
    "        new_centroids = np.array([X[labels == k].mean(axis=0) for k in range(num_clusters)])\n",
    "\n",
    "        if np.all(centroids == new_centroids):\n",
    "            break\n",
    "\n",
    "        centroids = new_centroids\n",
    "\n",
    "    return labels, centroids"
   ]
  },
  {
   "cell_type": "code",
   "execution_count": 3,
   "metadata": {},
   "outputs": [],
   "source": [
    "labels, centroids = kmeans(train_images_final_80, 10)"
   ]
  },
  {
   "cell_type": "code",
   "execution_count": 4,
   "metadata": {},
   "outputs": [],
   "source": [
    "def calculate_accuracy(true_labels, cluster_labels):\n",
    "    accuracy = 0\n",
    "    for i in range(len(np.unique(cluster_labels))):\n",
    "        mask = cluster_labels == i\n",
    "        correct_label = np.argmax(np.bincount(true_labels[mask]))\n",
    "        accuracy += np.sum(true_labels[mask] == correct_label)\n",
    "    return accuracy / len(true_labels)"
   ]
  },
  {
   "cell_type": "code",
   "execution_count": 5,
   "metadata": {},
   "outputs": [],
   "source": [
    "def calculate_gini(labels):\n",
    "    _, counts = np.unique(labels, return_counts=True)\n",
    "    probabilities = counts / len(labels)\n",
    "    gini_index = 1 - np.sum(probabilities ** 2)\n",
    "    return gini_index"
   ]
  },
  {
   "attachments": {},
   "cell_type": "markdown",
   "metadata": {},
   "source": [
    "Calculating Purity for clustering run on train data"
   ]
  },
  {
   "cell_type": "code",
   "execution_count": 6,
   "metadata": {},
   "outputs": [
    {
     "name": "stdout",
     "output_type": "stream",
     "text": [
      "Purity: 0.5227222222222222\n"
     ]
    }
   ],
   "source": [
    "accuracy = calculate_accuracy(train_labels_final_80, labels)\n",
    "print(\"Purity:\", accuracy)"
   ]
  },
  {
   "attachments": {},
   "cell_type": "markdown",
   "metadata": {},
   "source": [
    "Calculating Gini index"
   ]
  },
  {
   "cell_type": "code",
   "execution_count": 7,
   "metadata": {},
   "outputs": [
    {
     "name": "stdout",
     "output_type": "stream",
     "text": [
      "Gini index: 0.8869473148148148\n"
     ]
    }
   ],
   "source": [
    "gini1 = calculate_gini(labels)\n",
    "print(\"Gini index:\", gini1)"
   ]
  },
  {
   "attachments": {},
   "cell_type": "markdown",
   "metadata": {},
   "source": [
    "Running performance metrics on test data"
   ]
  },
  {
   "cell_type": "code",
   "execution_count": 8,
   "metadata": {},
   "outputs": [
    {
     "name": "stdout",
     "output_type": "stream",
     "text": [
      "Purity: 0.5812\n",
      "Gini index: 0.89075132\n"
     ]
    }
   ],
   "source": [
    "labels, centroids = kmeans(testX, 10)\n",
    "accuracy = calculate_accuracy(testy, labels)\n",
    "print(\"Purity:\", accuracy)\n",
    "\n",
    "gini2 = calculate_gini(labels)\n",
    "print(\"Gini index:\", gini2)"
   ]
  },
  {
   "attachments": {},
   "cell_type": "markdown",
   "metadata": {},
   "source": [
    "Evaluating KMeans objective for higher K:"
   ]
  },
  {
   "cell_type": "code",
   "execution_count": 9,
   "metadata": {},
   "outputs": [
    {
     "name": "stdout",
     "output_type": "stream",
     "text": [
      "Accuracy with k=20:  0.6481666666666667\n",
      "Gini index with k=20: 0.9430828641975308\n"
     ]
    }
   ],
   "source": [
    "labels, centroids = kmeans(train_images_final_80, 20)\n",
    "accuracy = calculate_accuracy(train_labels_final_80, labels)\n",
    "print(\"Accuracy with k=20: \", accuracy)\n",
    "\n",
    "gini = calculate_gini(labels)\n",
    "print(\"Gini index with k=20:\", gini)"
   ]
  },
  {
   "attachments": {},
   "cell_type": "markdown",
   "metadata": {},
   "source": [
    "Evaluating KMeans objective for lower K:"
   ]
  },
  {
   "cell_type": "code",
   "execution_count": 10,
   "metadata": {},
   "outputs": [
    {
     "name": "stdout",
     "output_type": "stream",
     "text": [
      "Accuracy with k=5:  0.4132222222222222\n",
      "Gini index with k=5: 0.7872556604938271\n"
     ]
    }
   ],
   "source": [
    "labels, centroids = kmeans(train_images_final_80, 5)\n",
    "accuracy = calculate_accuracy(train_labels_final_80, labels)\n",
    "print(\"Accuracy with k=5: \", accuracy)\n",
    "\n",
    "gini = calculate_gini(labels)\n",
    "print(\"Gini index with k=5:\", gini)"
   ]
  }
 ],
 "metadata": {
  "kernelspec": {
   "display_name": "Python 3",
   "language": "python",
   "name": "python3"
  },
  "language_info": {
   "codemirror_mode": {
    "name": "ipython",
    "version": 3
   },
   "file_extension": ".py",
   "mimetype": "text/x-python",
   "name": "python",
   "nbconvert_exporter": "python",
   "pygments_lexer": "ipython3",
   "version": "3.9.6"
  },
  "orig_nbformat": 4
 },
 "nbformat": 4,
 "nbformat_minor": 2
}
