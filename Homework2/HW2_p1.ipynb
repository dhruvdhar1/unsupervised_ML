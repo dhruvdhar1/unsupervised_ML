{
 "cells": [
  {
   "attachments": {},
   "cell_type": "markdown",
   "metadata": {},
   "source": [
    "### P1.1: Prove that E step update on membership (\\pi) achieves the minimum objective given the current centroids( \\mu)\n",
    "the kmeans objective is given by the formula: \n",
    "$\n",
    "\\sum_{i=1}^n \\sum_{k=1}^K \\pi_{ik} ||x_i - \\mu_k||^2\n",
    "$\n",
    "\n",
    "We need to prove that the euclidean distance between between a datapoint and a centroid is minimized when it is assigned to a cluster with the closest centroid. This objective is achieved by iterating over E-step and M-steps until convergence.\n",
    "\n",
    "In E step, we first calculate the euclidean distance between each datapoint and a centroid, then choosing the datapoints with the least distance value. We represent membership of every datapoint to its cluster using $ \\pi_{ik} $. \n",
    "\n",
    "Proof by induction:\n",
    "\n",
    "Let us assume that there exists another membership assignment $\\pi'_{ik}$ that has smaller objective value than $\\pi_{ik}$. Then there must be atleast one datapoint that is assigned to a different centroid in the assignment $\\pi'_{ik}$\n",
    "\n",
    "In E-step, the datapoint was assigned to $\\mu_{ik}$ based on euclidean distance which is the minimum distance between 2 points, which means that \n",
    "$||x_i - \\mu_k||^2 < ||x_i - \\mu'_k||^2$\n",
    "\n",
    "This is a contradiction and is only possible if $\\pi'_{ik} = \\pi_{ik}$.\n",
    "\n",
    "This proves that E step update on membership (\\pi) achieves the minimum objective given the current centroids( \\mu)\n"
   ]
  },
  {
   "attachments": {},
   "cell_type": "markdown",
   "metadata": {},
   "source": [
    "### P1.3: Explain why KMeans has to stop (converge), but not necessarily to the global minimum objective value.\n",
    "\n",
    "Kmeans is an iterative algorithm that uses the EM approach to determine the best possible clustering. Kmeans first chooses a set of k random centroids and then tries to assign each point to a cluster based on the closest distance to the centroid. Kmeans then updates the centroids by taking the mean of all the points in each cluster. This process continues until the centroids do not change in further iteration.\n",
    "Since the algorithm starts with a random set of centroids, there is no guarentee that the points will converge to a global optimum value. This is because different centroid values can lead to different results. It is possible that the initially picked centroids were very suboptimal which would then lead to suboptimal final clusters."
   ]
  }
 ],
 "metadata": {
  "kernelspec": {
   "display_name": "Python 3",
   "language": "python",
   "name": "python3"
  },
  "language_info": {
   "name": "python",
   "version": "3.9.6"
  },
  "orig_nbformat": 4
 },
 "nbformat": 4,
 "nbformat_minor": 2
}
