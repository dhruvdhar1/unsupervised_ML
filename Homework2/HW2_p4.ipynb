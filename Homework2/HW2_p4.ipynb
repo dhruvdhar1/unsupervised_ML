{
 "cells": [
  {
   "attachments": {},
   "cell_type": "markdown",
   "metadata": {},
   "source": [
    "### PROBLEM 4 EM for coin flips\n",
    "\n",
    "Three coins A,B,C with head-prob p_A, p_B, p_C can be chosen for each of N sessions. Once a coin is chosen for the session, that coin is flipped K times. For K=20 and N=50, and fixed non-uniform selection coin probabilities q_A, q_B, q_C, which sum to 1, we have this outcome , each row corresponds to a session with 20 binary 1=head 0=tail.\n",
    "\n",
    "Compute the probabilities to select each coin to session (3 \"q\" probabilities), and also the bias probabas (3 \"p\" probabilities).\n",
    "\n",
    "HINT: for each session, since the K flips are independent of each other, what matters is the number of heads out of the batch size K. If chance of head is p_ for each flip, then probability of observing x heads is binomial $(x|p_, K)$. Here is a technical brief note ."
   ]
  },
  {
   "attachments": {},
   "cell_type": "markdown",
   "metadata": {},
   "source": [
    "Creating an array with provided outcomes"
   ]
  },
  {
   "cell_type": "code",
   "execution_count": 26,
   "metadata": {},
   "outputs": [],
   "source": [
    "\n",
    "import random\n",
    "\n",
    "TOTAL_NUM_HEADS = 553\n",
    "\n",
    "flips = [\n",
    "    [0, 1, 0, 0, 1, 0, 1, 0, 1, 0, 0, 0, 1, 1, 1, 0, 1, 1, 0, 1],\n",
    "    [1, 0, 0, 1, 1, 1, 1, 1, 1, 1, 1, 1, 0, 0, 1, 1, 1, 1, 0, 1],\n",
    "    [1, 1, 0, 1, 1, 1, 0, 0, 1, 1, 0, 0, 0, 1, 0, 1, 1, 0, 1, 0],\n",
    "    [1, 0, 0, 0, 0, 0, 0, 0, 0, 1, 0, 0, 0, 1, 0, 0, 0, 0, 0, 0],\n",
    "    [0, 0, 1, 0, 0, 1, 0, 0, 0, 1, 0, 0, 0, 0, 0, 0, 0, 0, 0, 0],\n",
    "    [0, 0, 1, 1, 0, 0, 1, 0, 1, 0, 1, 1, 0, 1, 0, 1, 1, 1, 1, 1],\n",
    "    [1, 1, 1, 1, 1, 1, 1, 1, 0, 1, 1, 1, 1, 1, 1, 1, 1, 1, 1, 1],\n",
    "    [1, 1, 1, 0, 1, 1, 0, 1, 1, 1, 1, 1, 1, 0, 1, 1, 0, 1, 0, 0],\n",
    "    [0, 1, 0, 0, 0, 1, 0, 1, 0, 0, 0, 0, 0, 0, 0, 0, 0, 0, 1, 1],\n",
    "    [1, 1, 1, 1, 1, 1, 1, 1, 1, 1, 0, 1, 1, 1, 1, 1, 1, 1, 1, 1],\n",
    "    [1, 1, 1, 1, 0, 1, 1, 1, 1, 1, 0, 1, 1, 1, 1, 1, 1, 1, 1, 1],\n",
    "    [1, 1, 1, 1, 0, 1, 1, 1, 0, 1, 1, 1, 1, 0, 1, 0, 1, 1, 0, 0],\n",
    "    [0, 0, 0, 0, 0, 0, 0, 0, 0, 0, 1, 0, 0, 0, 0, 0, 0, 0, 0, 1],\n",
    "    [0, 1, 0, 1, 1, 1, 0, 1, 1, 1, 1, 1, 0, 1, 1, 1, 1, 0, 1, 1],\n",
    "    [0, 0, 0, 0, 0, 0, 1, 1, 0, 1, 0, 0, 0, 1, 0, 0, 0, 0, 0, 1],\n",
    "    [1, 1, 1, 0, 1, 1, 1, 1, 1, 1, 1, 1, 1, 1, 1, 1, 1, 1, 1, 1],\n",
    "    [1, 1, 1, 1, 1, 1, 1, 1, 1, 1, 1, 0, 1, 1, 1, 1, 1, 1, 1, 1],\n",
    "    [1, 1, 0, 0, 0, 1, 0, 1, 0, 0, 1, 1, 0, 0, 0, 0, 0, 1, 1, 1],\n",
    "    [0, 1, 1, 1, 1, 1, 0, 0, 0, 0, 0, 1, 1, 0, 1, 1, 0, 1, 0, 1],\n",
    "    [1, 0, 0, 1, 1, 1, 1, 1, 1, 1, 1, 0, 1, 1, 1, 0, 0, 1, 1, 0],\n",
    "    [1, 0, 1, 0, 0, 1, 0, 1, 0, 1, 0, 1, 0, 0, 0, 1, 0, 0, 0, 0],\n",
    "    [1, 1, 1, 1, 0, 1, 0, 0, 0, 1, 0, 0, 1, 1, 1, 0, 1, 1, 1, 1],\n",
    "    [1, 1, 0, 0, 1, 0, 0, 1, 0, 1, 1, 0, 0, 1, 1, 1, 1, 1, 0, 1],\n",
    "    [0, 0, 1, 1, 1, 1, 1, 1, 1, 1, 1, 1, 1, 1, 1, 1, 1, 1, 1, 1],\n",
    "    [1, 1, 0, 1, 0, 0, 1, 1, 0, 0, 1, 1, 1, 1, 0, 1, 1, 1, 0, 1],\n",
    "    [1, 1, 0, 0, 1, 1, 0, 1, 1, 0, 1, 1, 0, 1, 0, 0, 0, 1, 1, 1],\n",
    "    [1, 1, 0, 1, 1, 1, 0, 1, 1, 0, 0, 0, 1, 1, 1, 1, 0, 1, 1, 1],\n",
    "    [0, 1, 0, 1, 1, 1, 0, 1, 0, 1, 1, 0, 1, 0, 1, 1, 1, 0, 0, 0],\n",
    "    [0, 1, 0, 1, 0, 0, 0, 0, 0, 0, 0, 0, 1, 0, 0, 1, 0, 0, 0, 0],\n",
    "    [1, 1, 1, 1, 0, 1, 1, 1, 1, 1, 0, 1, 0, 0, 1, 0, 0, 0, 0, 1],\n",
    "    [0, 0, 0, 0, 0, 0, 0, 0, 0, 0, 0, 0, 1, 0, 0, 0, 0, 0, 1, 1],\n",
    "    [1, 1, 0, 1, 0, 0, 1, 1, 1, 1, 0, 1, 1, 0, 1, 1, 1, 0, 1, 1],\n",
    "    [1, 0, 1, 1, 1, 1, 1, 1, 0, 1, 1, 1, 0, 0, 1, 0, 1, 1, 1, 0],\n",
    "    [1, 1, 0, 0, 1, 0, 0, 1, 1, 0, 1, 1, 0, 0, 1, 0, 0, 0, 0, 0],\n",
    "    [0, 0, 1, 0, 0, 0, 1, 0, 0, 0, 0, 0, 1, 1, 0, 1, 1, 0, 0, 1],\n",
    "    [1, 0, 1, 1, 0, 0, 0, 1, 0, 1, 1, 0, 0, 0, 0, 0, 0, 0, 0, 0],\n",
    "    [1, 1, 1, 1, 1, 1, 1, 1, 1, 1, 1, 0, 1, 1, 1, 1, 1, 1, 1, 1],\n",
    "    [0, 1, 1, 0, 1, 0, 0, 1, 0, 1, 1, 1, 1, 0, 0, 0, 0, 1, 0, 1],\n",
    "    [1, 0, 1, 1, 1, 1, 1, 1, 1, 1, 1, 1, 1, 1, 1, 1, 1, 0, 1, 1],\n",
    "    [0, 0, 1, 0, 0, 1, 0, 1, 0, 0, 1, 1, 1, 0, 1, 1, 1, 1, 1, 1],\n",
    "    [1, 0, 1, 0, 0, 0, 0, 0, 0, 0, 0, 0, 0, 0, 0, 0, 0, 1, 0, 0],\n",
    "    [1, 1, 1, 1, 0, 0, 1, 0, 1, 1, 0, 0, 0, 1, 1, 1, 0, 1, 1, 1],\n",
    "    [0, 0, 1, 0, 0, 0, 1, 1, 0, 1, 0, 0, 0, 0, 1, 0, 0, 1, 1, 1],\n",
    "    [1, 1, 1, 1, 1, 1, 1, 1, 1, 1, 1, 1, 1, 1, 0, 1, 1, 1, 1, 1],\n",
    "    [0, 0, 1, 0, 1, 0, 1, 0, 0, 0, 0, 0, 0, 1, 0, 1, 0, 0, 0, 0],\n",
    "    [0, 0, 0, 1, 0, 0, 0, 0, 0, 1, 0, 0, 0, 0, 1, 1, 1, 0, 0, 0],\n",
    "    [0, 0, 0, 1, 0, 0, 0, 0, 0, 0, 0, 0, 1, 1, 0, 0, 0, 0, 0, 0],\n",
    "    [1, 0, 1, 1, 1, 1, 1, 0, 0, 1, 1, 0, 1, 0, 1, 1, 1, 1, 0, 1],\n",
    "    [0, 1, 1, 0, 0, 0, 0, 1, 0, 1, 0, 0, 1, 1, 0, 1, 0, 0, 0, 1],\n",
    "    [1, 1, 1, 0, 0, 0, 0, 1, 1, 1, 1, 0, 0, 1, 0, 0, 1, 1, 1, 0]]"
   ]
  },
  {
   "attachments": {},
   "cell_type": "markdown",
   "metadata": {},
   "source": [
    "Coin flip implementation"
   ]
  },
  {
   "cell_type": "code",
   "execution_count": 54,
   "metadata": {},
   "outputs": [],
   "source": [
    "'''\n",
    "This implementation is inspired by UMich lecture notes and discussion (EECS545)\n",
    "ref: https://nbviewer.org/github/eecs445-f16/umich-eecs445-f16/blob/master/handsOn_lecture17_clustering-mixtures-em/handsOn_lecture17_clustering-mixtures-em.ipynb#Problem:-implement-EM-for-Coin-Flips \n",
    "ref: https://github.com/thejakeyboy/umich-eecs545-lectures/blob/master/lecture16_clustering-mixtures-em/eecs545_expectation-maximization-notes.pdf\n",
    "'''\n",
    "# Algorithm: \n",
    "\n",
    "# step 1: start with a guess for coin biases: p_A, p_B, p_C = random prob\n",
    "# step 2: calculate P(E|q_A), P(E|q_B), P(E|q_C): probability of event E, provided coin X was flipped.\n",
    "# step 3: use bayes rule to find P(q_A|E), P(q_B|E), P(q_C|E) where E=\"HHHHTTTTT..\" sequence\n",
    "# step 4: refine p_A, p_B and p_C by dividing expected number of heads by total number of flips \n",
    "\n",
    "\n",
    "def e_step(flips, p_A, p_B, p_C):\n",
    "\n",
    "    heads_A, tails_A = 0, 0\n",
    "    heads_B, tails_B = 0, 0\n",
    "    heads_C, tails_C = 0, 0\n",
    "\n",
    "    for flip in flips:\n",
    "        numHeads = flip.count(1)\n",
    "        numTrial = flip.count(0)\n",
    "\n",
    "        likelihood_A = coin_likelihood(p_A, numHeads)\n",
    "        likelihood_B = coin_likelihood(p_B, numHeads)\n",
    "        likelihood_C = coin_likelihood(p_C, numHeads)\n",
    "\n",
    "        q_A = likelihood_A / (likelihood_A + likelihood_B + likelihood_C)\n",
    "        q_B = likelihood_B / (likelihood_A + likelihood_B + likelihood_C)\n",
    "        q_C = likelihood_C / (likelihood_A + likelihood_B + likelihood_C)\n",
    "        \n",
    "        heads_A += q_A * numHeads\n",
    "        tails_A += q_A * numTrial\n",
    "\n",
    "        heads_B += q_B * numHeads\n",
    "        tails_B += q_B * numTrial\n",
    "\n",
    "        heads_C += q_C * numHeads\n",
    "        tails_C += q_C * numTrial\n",
    "\n",
    "    return heads_A, tails_A, heads_B, tails_B, heads_C, tails_C\n",
    "\n",
    "\n",
    "def m_step(heads_A, tails_A, heads_B, tails_B, heads_C, tails_C):\n",
    "    p_A = heads_A / (heads_A + tails_A)\n",
    "    p_B = heads_B / (heads_B + tails_B)\n",
    "    p_C = heads_C / (heads_C + tails_C)\n",
    "\n",
    "    return p_A, p_B, p_C\n",
    "\n",
    "\n",
    "def coin_likelihood(bias, numHeads):\n",
    "    # calculating the likelihood of coin X getting picked for event Y\n",
    "    return pow(bias, numHeads) * pow(1 - bias, 20 - numHeads)\n",
    "\n",
    "def coin_flip(flips, maxiter=10):\n",
    "\n",
    "    # Initialization\n",
    "    p_A = random.random()\n",
    "    p_B = random.random()\n",
    "    p_C = random.random()\n",
    "\n",
    "    # Run EM\n",
    "    for c in range(maxiter):\n",
    "        #E step\n",
    "        heads_A, tails_A, heads_B, tails_B, heads_C, tails_C = e_step(flips, p_A, p_B, p_C)\n",
    "\n",
    "        #M Step\n",
    "        p_A, p_B, p_C = m_step(heads_A, tails_A, heads_B, tails_B, heads_C, tails_C)\n",
    "\n",
    "    return (p_A, p_B, p_C), (heads_A / TOTAL_NUM_HEADS, heads_B / TOTAL_NUM_HEADS, heads_C / TOTAL_NUM_HEADS)"
   ]
  },
  {
   "attachments": {},
   "cell_type": "markdown",
   "metadata": {},
   "source": [
    "p and q probabilities"
   ]
  },
  {
   "cell_type": "code",
   "execution_count": 55,
   "metadata": {},
   "outputs": [
    {
     "name": "stdout",
     "output_type": "stream",
     "text": [
      "p:  (0.24713675165406482, 0.9186163369732678, 0.6135837146365895)\n",
      "q:  (0.1455904441447313, 0.32019392037637945, 0.5342156354788895)\n"
     ]
    }
   ],
   "source": [
    "p, q = coin_flip(flips, maxiter=10)\n",
    "\n",
    "print(\"p: \", p)\n",
    "print(\"q: \", q)"
   ]
  }
 ],
 "metadata": {
  "kernelspec": {
   "display_name": "Python 3",
   "language": "python",
   "name": "python3"
  },
  "language_info": {
   "codemirror_mode": {
    "name": "ipython",
    "version": 3
   },
   "file_extension": ".py",
   "mimetype": "text/x-python",
   "name": "python",
   "nbconvert_exporter": "python",
   "pygments_lexer": "ipython3",
   "version": "3.9.6"
  },
  "orig_nbformat": 4
 },
 "nbformat": 4,
 "nbformat_minor": 2
}
