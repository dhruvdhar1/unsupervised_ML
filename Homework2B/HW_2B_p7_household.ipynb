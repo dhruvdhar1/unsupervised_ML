{
 "cells": [
  {
   "cell_type": "code",
   "execution_count": 1,
   "metadata": {},
   "outputs": [],
   "source": [
    "import numpy as np\n",
    "import pandas as pd\n",
    "from sklearn.metrics.pairwise import euclidean_distances\n",
    "import matplotlib.pyplot as plt\n",
    "import random\n",
    "from sklearn.model_selection import train_test_split\n",
    "from sklearn.metrics import silhouette_score"
   ]
  },
  {
   "cell_type": "code",
   "execution_count": 2,
   "metadata": {},
   "outputs": [],
   "source": [
    "def get_nearest_neighbor(core_vector, X, eps, core_vector_index):\n",
    "    nearest_neighbor = []\n",
    "    for i in range(len(X)):\n",
    "        if i != core_vector_index:\n",
    "            neighbor = X[i]\n",
    "            euclidean_distance = np.linalg.norm(core_vector - neighbor)\n",
    "            if(euclidean_distance <= eps):\n",
    "                nearest_neighbor.append(i)\n",
    "    \n",
    "    return nearest_neighbor\n",
    "\n",
    "\n",
    "def check_core_point(eps,minPts, X, index):\n",
    "\n",
    "    nearest_neighbor = list(get_nearest_neighbor(X[index], X, eps, index))\n",
    "    \n",
    "    if len(nearest_neighbor) >= minPts:\n",
    "        return (nearest_neighbor, 1)\n",
    "    \n",
    "    elif (len(nearest_neighbor) < minPts) and len(nearest_neighbor) > 0:\n",
    "        return (nearest_neighbor, 2)\n",
    "    \n",
    "    elif len(nearest_neighbor) == 0:\n",
    "        return (nearest_neighbor, 3)"
   ]
  },
  {
   "cell_type": "code",
   "execution_count": 3,
   "metadata": {},
   "outputs": [],
   "source": [
    "def _dbscan(eps, minPts, X):\n",
    "    \n",
    "    #initiating cluster number\n",
    "    cluster_num = 1\n",
    "\n",
    "    q = set()\n",
    "    unvisited = [i for i in range(0, len(X))]\n",
    "    clusters = []\n",
    "    \n",
    "    while (len(unvisited) > 0): #run until all points have been visited\n",
    "\n",
    "        #identifier for first point of a cluster\n",
    "        first_point = True\n",
    "        \n",
    "        #choose a random unvisited point\n",
    "        q.add(random.choice(unvisited))\n",
    "        \n",
    "        while len(q) > 0:\n",
    "            pop = q.pop()\n",
    "            unvisited.remove(pop)\n",
    "            \n",
    "            neighbor_ind, point_type = check_core_point(eps, minPts, X, pop)\n",
    "            \n",
    "            #dealing with an edge case\n",
    "            if point_type == 2 and first_point:\n",
    "                \n",
    "                clusters.append((pop, 0))\n",
    "                for ind in neighbor_ind:\n",
    "                    clusters.append((ind, 0))\n",
    "\n",
    "                unvisited = [element for element in unvisited if element not in neighbor_ind]\n",
    "                continue\n",
    "\n",
    "            first_point = False\n",
    "            \n",
    "            #CORE POINT\n",
    "            if point_type == 1:\n",
    "                clusters.append((pop,cluster_num))\n",
    "                neighbor_ind = set(neighbor_ind) & set(unvisited)\n",
    "                q.update(neighbor_ind)\n",
    "\n",
    "            #BORDER POINT\n",
    "            elif point_type == 2:\n",
    "                clusters.append((pop,cluster_num))\n",
    "                continue\n",
    "            \n",
    "            #OUTLIER\n",
    "            elif point_type == 3:\n",
    "                clusters.append((pop, 0))\n",
    "                continue\n",
    "                \n",
    "        if not first_point:\n",
    "            cluster_num += 1\n",
    "        \n",
    "    return clusters"
   ]
  },
  {
   "cell_type": "code",
   "execution_count": 4,
   "metadata": {},
   "outputs": [
    {
     "name": "stderr",
     "output_type": "stream",
     "text": [
      "/var/folders/p_/13f6gk3n669b67r2pt17z88r0000gn/T/ipykernel_60547/2849566241.py:1: DtypeWarning: Columns (2,3,4,5,6,7) have mixed types. Specify dtype option on import or set low_memory=False.\n",
      "  household_data = pd.read_csv('household_power_consumption.txt', sep=';')\n"
     ]
    }
   ],
   "source": [
    "\n",
    "\n",
    "household_data = pd.read_csv('household_power_consumption.txt', sep=';')\n",
    "df_moons = pd.DataFrame(household_data, columns=['Global_active_power', 'Global_active_power', 'Voltage', 'Global_intensity', 'Sub_metering_1', 'Sub_metering_2', 'Sub_metering_3'])\n",
    "df_moons = df_moons.apply (pd.to_numeric, errors='coerce')\n",
    "\n",
    "df_moons_norm = df_moons.apply(lambda iterator: ((iterator.max() - iterator)/(iterator.max() - iterator.min())).round(2))\n",
    "df_moons_cleaned = df_moons_norm.dropna()\n",
    "train_data, test_data, train_labels, test_labels = train_test_split(df_moons_cleaned, df_moons_cleaned, test_size=0.999, random_state=42)\n",
    "raw_data_household = train_data.to_numpy()"
   ]
  },
  {
   "cell_type": "code",
   "execution_count": 5,
   "metadata": {},
   "outputs": [
    {
     "data": {
      "text/plain": [
       "(2049, 7)"
      ]
     },
     "execution_count": 5,
     "metadata": {},
     "output_type": "execute_result"
    }
   ],
   "source": [
    "train_data.shape"
   ]
  },
  {
   "cell_type": "code",
   "execution_count": 23,
   "metadata": {},
   "outputs": [
    {
     "name": "stdout",
     "output_type": "stream",
     "text": [
      "[ 0  1  2  4  9 24 30 51 57]\n"
     ]
    }
   ],
   "source": [
    "clustered = _dbscan(0.04, 3, raw_data_household)\n",
    "ind , cluster = list(zip(*clustered))\n",
    "cluster_df = pd.DataFrame(clustered, columns = [\"ind\", \"cluster\"])\n",
    "labels = list(cluster)\n",
    "print(np.unique(cluster))"
   ]
  },
  {
   "cell_type": "code",
   "execution_count": 24,
   "metadata": {},
   "outputs": [],
   "source": [
    "cluster = list(cluster)\n",
    "while len(cluster) > len(train_data):\n",
    "    cluster.pop()"
   ]
  },
  {
   "cell_type": "code",
   "execution_count": 8,
   "metadata": {},
   "outputs": [
    {
     "data": {
      "text/plain": [
       "2049"
      ]
     },
     "execution_count": 8,
     "metadata": {},
     "output_type": "execute_result"
    }
   ],
   "source": [
    "len(cluster)"
   ]
  },
  {
   "cell_type": "code",
   "execution_count": 9,
   "metadata": {},
   "outputs": [],
   "source": [
    "def calculate_gini(labels):\n",
    "    _, counts = np.unique(labels, return_counts=True)\n",
    "    probabilities = counts / len(labels)\n",
    "    gini_index = 1 - np.sum(probabilities ** 2)\n",
    "    return gini_index"
   ]
  },
  {
   "cell_type": "code",
   "execution_count": 10,
   "metadata": {},
   "outputs": [
    {
     "name": "stdout",
     "output_type": "stream",
     "text": [
      "Gini Index with eps=5:  0.3013904579386295\n"
     ]
    }
   ],
   "source": [
    "gini_index = calculate_gini(cluster)\n",
    "print(\"Gini Index with eps=5: \", gini_index)"
   ]
  },
  {
   "cell_type": "code",
   "execution_count": 25,
   "metadata": {},
   "outputs": [
    {
     "name": "stdout",
     "output_type": "stream",
     "text": [
      "0.5772779134704406\n"
     ]
    }
   ],
   "source": [
    "\n",
    "score = silhouette_score(train_data, cluster)\n",
    "print(score)"
   ]
  }
 ],
 "metadata": {
  "kernelspec": {
   "display_name": "Python 3",
   "language": "python",
   "name": "python3"
  },
  "language_info": {
   "codemirror_mode": {
    "name": "ipython",
    "version": 3
   },
   "file_extension": ".py",
   "mimetype": "text/x-python",
   "name": "python",
   "nbconvert_exporter": "python",
   "pygments_lexer": "ipython3",
   "version": "3.9.6"
  },
  "orig_nbformat": 4
 },
 "nbformat": 4,
 "nbformat_minor": 2
}
