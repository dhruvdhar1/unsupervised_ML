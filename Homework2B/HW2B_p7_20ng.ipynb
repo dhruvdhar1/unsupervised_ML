{
 "cells": [
  {
   "attachments": {},
   "cell_type": "markdown",
   "metadata": {},
   "source": [
    "#### PROBLEM 7: DBSCAN on real data\n",
    "Run the DBSCAN algorithm on the 20NG dataset, and on the FASHION dataset, and the HouseHold dataset (see papers), and evaluate results. You need to implement both phases (1) neighborhoods creation, (2) DBSCAN.\n",
    "Explain why/when it works, and speculate why/when not. You need to trial and error for parameters epsilon and MinPts\n",
    "\n",
    "DBSCAN Revisited, Revisited: Why and How You Should (Still) Use DBSCAN\n",
    "DBSCAN Revisited:Mis-Claim, Un-Fixability, and Approximation\n",
    "\n",
    "EXTRA CREDIT: Using class labels (cheating), try to remove/add points in curate the set for better DBSCAN runs"
   ]
  },
  {
   "cell_type": "code",
   "execution_count": 1,
   "metadata": {},
   "outputs": [],
   "source": [
    "import pandas as pd\n",
    "import numpy as np\n",
    "import random\n",
    "from collections import Counter\n",
    "from sklearn.metrics.pairwise import euclidean_distances\n",
    "from sklearn.metrics import accuracy_score"
   ]
  },
  {
   "cell_type": "code",
   "execution_count": 57,
   "metadata": {},
   "outputs": [],
   "source": [
    "def get_nearest_neighbor(core_vector, X, eps, core_vector_index):\n",
    "    nearest_neighbor = []\n",
    "    euclidian_distances = euclidean_distances(X)\n",
    "\n",
    "    for i in range(len(euclidian_distances)):\n",
    "        if i != core_vector_index:\n",
    "            euclidean_distance = euclidian_distances[core_vector_index][i]\n",
    "            if(euclidean_distance <= eps):\n",
    "                nearest_neighbor.append(i)\n",
    "    \n",
    "    return nearest_neighbor\n",
    "\n",
    "\n",
    "def check_core_point(eps,minPts, X, index):\n",
    "\n",
    "    nearest_neighbor = list(get_nearest_neighbor(X[index], X, eps, index))\n",
    "    \n",
    "    if len(nearest_neighbor) >= minPts:\n",
    "        return (nearest_neighbor, 1)\n",
    "    \n",
    "    elif (len(nearest_neighbor) < minPts) and len(nearest_neighbor) > 0:\n",
    "        return (nearest_neighbor, 2)\n",
    "    \n",
    "    elif len(nearest_neighbor) == 0:\n",
    "        return (nearest_neighbor, 3)"
   ]
  },
  {
   "cell_type": "code",
   "execution_count": 3,
   "metadata": {},
   "outputs": [],
   "source": [
    "def dbscan(eps, minPts, X):\n",
    "    \n",
    "    #initiating cluster number\n",
    "    cluster_num = 0\n",
    "\n",
    "    q = set()\n",
    "    unvisited = [i for i in range(1, len(X))]\n",
    "    clusters = []\n",
    "    \n",
    "    \n",
    "    while (len(unvisited) > 0): #run until all points have been visited\n",
    "\n",
    "        #identifier for first point of a cluster\n",
    "        first_point = True\n",
    "        \n",
    "        #choose a random unvisited point\n",
    "        q.add(random.choice(unvisited))\n",
    "        \n",
    "        while len(q) > 0:\n",
    "            pop = q.pop()\n",
    "            unvisited.remove(pop)\n",
    "            \n",
    "            neighbor_ind, point_type = check_core_point(eps, minPts, X, pop)\n",
    "            \n",
    "            #dealing with an edge case\n",
    "            if point_type == 2 and first_point:\n",
    "                \n",
    "                clusters.append((pop, -1))\n",
    "                for ind in neighbor_ind:\n",
    "                    clusters.append((ind, -1))\n",
    "\n",
    "                unvisited = [element for element in unvisited if element not in neighbor_ind]\n",
    "                continue\n",
    "\n",
    "            first_point = False\n",
    "            \n",
    "            #CORE POINT\n",
    "            if point_type == 1:\n",
    "                clusters.append((pop,cluster_num))\n",
    "                neighbor_ind = set(neighbor_ind) & set(unvisited)\n",
    "                q.update(neighbor_ind)\n",
    "\n",
    "            #BORDER POINT\n",
    "            elif point_type == 2:\n",
    "                clusters.append((pop,cluster_num))\n",
    "                continue\n",
    "            \n",
    "            #OUTLIER\n",
    "            elif point_type == 3:\n",
    "                clusters.append((pop, -1))\n",
    "                continue\n",
    "                \n",
    "        if not first_point:\n",
    "            cluster_num += 1\n",
    "        \n",
    "    return clusters"
   ]
  },
  {
   "cell_type": "code",
   "execution_count": 17,
   "metadata": {},
   "outputs": [],
   "source": [
    "from sklearn.datasets import fetch_20newsgroups\n",
    "from sklearn.feature_extraction.text import TfidfVectorizer\n",
    "from sklearn.model_selection import train_test_split\n",
    "\n",
    "newsgroups_train = fetch_20newsgroups(subset='train')\n",
    "newsgroups_test = fetch_20newsgroups(subset='test')\n",
    "\n",
    "vectorizer = TfidfVectorizer(stop_words='english')\n",
    "\n",
    "train_data_vector = vectorizer.fit_transform(newsgroups_train.data).toarray()\n",
    "test_data_vector = vectorizer.fit_transform(newsgroups_test.data).toarray()\n",
    "\n",
    "train_labels = newsgroups_train.target\n",
    "test_labels = newsgroups_test.target\n",
    "\n",
    "random_sample_indices = random.sample(range(train_data_vector.shape[0]), 3000)\n",
    "train_data_20 = train_data_vector[random_sample_indices]\n",
    "train_labels_20 = train_labels[random_sample_indices]\n",
    "\n",
    "train_data_final_80, validation_data_final_10, train_labels_final_80,validation_labels_final_10 = train_test_split(train_data_20, train_labels_20, test_size=0.1, random_state=42)"
   ]
  },
  {
   "cell_type": "code",
   "execution_count": 28,
   "metadata": {},
   "outputs": [
    {
     "name": "stdout",
     "output_type": "stream",
     "text": [
      "31899\n"
     ]
    }
   ],
   "source": [
    "count = 0\n",
    "for i in range(len(validation_data_final_10)):\n",
    "    for j in range(len(validation_data_final_10[i])):\n",
    "        if validation_data_final_10[i][j] > 0:\n",
    "            count +=1\n",
    "print(count)"
   ]
  },
  {
   "cell_type": "code",
   "execution_count": 60,
   "metadata": {},
   "outputs": [
    {
     "name": "stdout",
     "output_type": "stream",
     "text": [
      "[0]\n",
      "299\n",
      "[(38, 0), (7, 0), (8, 0), (9, 0), (10, 0), (11, 0), (12, 0), (13, 0), (14, 0), (15, 0), (16, 0), (17, 0), (18, 0), (19, 0), (20, 0), (21, 0), (22, 0), (23, 0), (24, 0), (25, 0), (26, 0), (27, 0), (28, 0), (29, 0), (30, 0), (31, 0), (32, 0), (33, 0), (34, 0), (35, 0), (36, 0), (37, 0), (39, 0), (40, 0), (41, 0), (42, 0), (43, 0), (44, 0), (45, 0), (46, 0), (47, 0), (48, 0), (49, 0), (50, 0), (51, 0), (52, 0), (53, 0), (54, 0), (55, 0), (56, 0), (57, 0), (58, 0), (59, 0), (60, 0), (61, 0), (62, 0), (63, 0), (64, 0), (65, 0), (66, 0), (67, 0), (68, 0), (69, 0), (70, 0), (71, 0), (72, 0), (73, 0), (74, 0), (75, 0), (76, 0), (77, 0), (78, 0), (79, 0), (80, 0), (81, 0), (82, 0), (83, 0), (84, 0), (85, 0), (86, 0), (87, 0), (88, 0), (89, 0), (90, 0), (91, 0), (92, 0), (93, 0), (94, 0), (95, 0), (96, 0), (97, 0), (98, 0), (99, 0), (100, 0), (101, 0), (102, 0), (103, 0), (104, 0), (105, 0), (106, 0), (107, 0), (108, 0), (109, 0), (110, 0), (111, 0), (112, 0), (113, 0), (114, 0), (115, 0), (116, 0), (117, 0), (118, 0), (119, 0), (120, 0), (121, 0), (122, 0), (123, 0), (124, 0), (125, 0), (126, 0), (127, 0), (128, 0), (129, 0), (130, 0), (131, 0), (132, 0), (133, 0), (134, 0), (135, 0), (136, 0), (137, 0), (138, 0), (139, 0), (140, 0), (141, 0), (142, 0), (143, 0), (144, 0), (145, 0), (146, 0), (147, 0), (148, 0), (149, 0), (150, 0), (151, 0), (152, 0), (153, 0), (154, 0), (155, 0), (156, 0), (157, 0), (158, 0), (159, 0), (160, 0), (161, 0), (162, 0), (163, 0), (164, 0), (165, 0), (166, 0), (167, 0), (168, 0), (169, 0), (170, 0), (171, 0), (172, 0), (173, 0), (174, 0), (175, 0), (176, 0), (177, 0), (178, 0), (179, 0), (180, 0), (181, 0), (182, 0), (183, 0), (184, 0), (185, 0), (186, 0), (187, 0), (188, 0), (189, 0), (190, 0), (191, 0), (192, 0), (193, 0), (194, 0), (195, 0), (196, 0), (197, 0), (198, 0), (199, 0), (200, 0), (201, 0), (202, 0), (203, 0), (204, 0), (205, 0), (206, 0), (207, 0), (208, 0), (209, 0), (210, 0), (211, 0), (212, 0), (213, 0), (214, 0), (215, 0), (216, 0), (217, 0), (218, 0), (219, 0), (220, 0), (221, 0), (222, 0), (223, 0), (224, 0), (225, 0), (226, 0), (227, 0), (228, 0), (229, 0), (230, 0), (231, 0), (232, 0), (233, 0), (234, 0), (235, 0), (236, 0), (237, 0), (238, 0), (239, 0), (240, 0), (241, 0), (242, 0), (243, 0), (244, 0), (245, 0), (246, 0), (247, 0), (248, 0), (249, 0), (250, 0), (251, 0), (252, 0), (253, 0), (254, 0), (255, 0), (256, 0), (257, 0), (258, 0), (259, 0), (260, 0), (261, 0), (262, 0), (263, 0), (264, 0), (265, 0), (266, 0), (267, 0), (268, 0), (269, 0), (270, 0), (271, 0), (272, 0), (273, 0), (274, 0), (275, 0), (276, 0), (277, 0), (278, 0), (279, 0), (280, 0), (281, 0), (282, 0), (283, 0), (284, 0), (285, 0), (286, 0), (287, 0), (288, 0), (289, 0), (290, 0), (291, 0), (292, 0), (293, 0), (294, 0), (295, 0), (296, 0), (297, 0), (298, 0), (299, 0), (1, 0), (2, 0), (3, 0), (4, 0), (5, 0), (6, 0)]\n"
     ]
    }
   ],
   "source": [
    "\n",
    "clustered = dbscan(13, 4, validation_data_final_10)\n",
    "idx , cluster = list(zip(*clustered))\n",
    "cluster_df = pd.DataFrame(clustered, columns = [\"ind\", \"cluster\"])\n",
    "print(np.unique(cluster))\n",
    "\n",
    "print(len(clustered))\n",
    "print((clustered))"
   ]
  },
  {
   "attachments": {},
   "cell_type": "markdown",
   "metadata": {},
   "source": [
    "purity index\n",
    "gini index\n",
    "siluvette score"
   ]
  },
  {
   "cell_type": "code",
   "execution_count": 43,
   "metadata": {},
   "outputs": [],
   "source": [
    "def calculate_gini(labels):\n",
    "    _, counts = np.unique(labels, return_counts=True)\n",
    "    probabilities = counts / len(labels)\n",
    "    gini_index = 1 - np.sum(probabilities ** 2)\n",
    "    return gini_index"
   ]
  },
  {
   "cell_type": "code",
   "execution_count": 44,
   "metadata": {},
   "outputs": [
    {
     "data": {
      "text/plain": [
       "0.0"
      ]
     },
     "execution_count": 44,
     "metadata": {},
     "output_type": "execute_result"
    }
   ],
   "source": [
    "calculate_gini(cluster)"
   ]
  },
  {
   "cell_type": "code",
   "execution_count": 49,
   "metadata": {},
   "outputs": [],
   "source": [
    "cluster = list(cluster)\n",
    "while len(cluster) > len(validation_data_final_10):\n",
    "    cluster.pop()"
   ]
  },
  {
   "cell_type": "code",
   "execution_count": 62,
   "metadata": {},
   "outputs": [],
   "source": [
    "cluster_member_map = dict()\n",
    "member_cluster_map = dict()\n",
    "\n",
    "for pair in clustered:\n",
    "    member = pair[0]\n",
    "    cluster_num = pair[1]\n",
    "\n",
    "    if cluster_num in cluster_member_map:\n",
    "        cluster_member_map[cluster_num].add(member)\n",
    "        member_cluster_map[member] = cluster_num\n",
    "    else:\n",
    "        cluster_member_map[cluster_num] = set()\n",
    "        cluster_member_map[cluster_num].add(member)\n",
    "\n",
    "cluster_label_map = dict()\n",
    "\n",
    "for key in cluster_member_map:\n",
    "    members = cluster_member_map[key]\n",
    "    actual_labels = []\n",
    "    for member in members:\n",
    "        label = validation_labels_final_10[member]\n",
    "        # print(\"label: \", label)\n",
    "        actual_labels.append(label)\n",
    "    mode = Counter(actual_labels).most_common(1)\n",
    "    cluster_label_map[key] = mode[0][0]\n",
    "\n",
    "\n",
    "\n",
    "pred_labels = []\n",
    "\n",
    "for key in member_cluster_map:\n",
    "    label = cluster_label_map[member_cluster_map[key]]\n",
    "    pred_labels.append(label)\n",
    "\n",
    "  \n",
    "# print(cluster_label_map)\n",
    "# print((true_labels))"
   ]
  },
  {
   "cell_type": "code",
   "execution_count": 63,
   "metadata": {},
   "outputs": [],
   "source": [
    "while len(pred_labels) < len(validation_data_final_10):\n",
    "    pred_labels.append(0)"
   ]
  },
  {
   "cell_type": "code",
   "execution_count": 64,
   "metadata": {},
   "outputs": [
    {
     "name": "stdout",
     "output_type": "stream",
     "text": [
      "Purity:  0.08\n"
     ]
    }
   ],
   "source": [
    "purity = accuracy_score(pred_labels, validation_labels_final_10)\n",
    "print(\"Purity: \", purity)"
   ]
  }
 ],
 "metadata": {
  "kernelspec": {
   "display_name": "Python 3",
   "language": "python",
   "name": "python3"
  },
  "language_info": {
   "codemirror_mode": {
    "name": "ipython",
    "version": 3
   },
   "file_extension": ".py",
   "mimetype": "text/x-python",
   "name": "python",
   "nbconvert_exporter": "python",
   "pygments_lexer": "ipython3",
   "version": "3.9.6"
  },
  "orig_nbformat": 4
 },
 "nbformat": 4,
 "nbformat_minor": 2
}
