{
 "cells": [
  {
   "attachments": {},
   "cell_type": "markdown",
   "metadata": {},
   "source": [
    "PCA Implementation\n",
    "(ref: https://www.youtube.com/watch?v=Rjr62b_h7S4&t=394s&ab_channel=AssemblyAI)"
   ]
  },
  {
   "cell_type": "code",
   "execution_count": 49,
   "metadata": {},
   "outputs": [],
   "source": [
    "import numpy as np\n",
    "\n",
    "class PCA:\n",
    "    def __init__(self, num_components):\n",
    "        self.num_components = num_components\n",
    "        self.components = None\n",
    "        self.mean = None\n",
    "\n",
    "    def fit(self, X):\n",
    "        self.mean = np.mean(X, axis=0)\n",
    "        X = X - self.mean\n",
    "\n",
    "        cov_mat = np.dot(X.T, X) / (X.shape[0] - 1)\n",
    "        eigenvalues, eigenvectors = np.linalg.eigh(cov_mat)\n",
    "\n",
    "        eigenvectors = eigenvectors.T\n",
    "        \n",
    "        arg_ind = np.argsort(eigenvalues)[::-1]\n",
    "        eigenvalues = eigenvalues[arg_ind]\n",
    "        eigenvectors = eigenvectors[arg_ind]\n",
    "\n",
    "        self.components = eigenvectors[:self.num_components]\n",
    "         \n",
    "    def transform(self, X):\n",
    "        X = X - self.mean\n",
    "        return np.dot(X, self.components.T)"
   ]
  },
  {
   "attachments": {},
   "cell_type": "markdown",
   "metadata": {},
   "source": [
    "Running PCA on MNIST data"
   ]
  },
  {
   "cell_type": "code",
   "execution_count": 50,
   "metadata": {},
   "outputs": [
    {
     "name": "stdout",
     "output_type": "stream",
     "text": [
      "Final train dataset size:  (28000, 784)\n",
      "Final validation dataset size:  (12000, 784)\n"
     ]
    }
   ],
   "source": [
    "import numpy as np\n",
    "import keras\n",
    "import random\n",
    "from keras.datasets import mnist\n",
    "from sklearn.linear_model import LogisticRegression\n",
    "from sklearn.model_selection import train_test_split\n",
    "from sklearn.metrics import accuracy_score\n",
    "\n",
    "(train_images, train_labels), (test_images, test_labels) = keras.datasets.mnist.load_data()\n",
    "\n",
    "#reshaping images\n",
    "train_images = np.reshape(train_images, (-1, 784))\n",
    "test_images = np.reshape(test_images, (-1, 784))\n",
    "\n",
    "# normalize\n",
    "train_images = train_images.astype('float32') / 255\n",
    "test_images = test_images.astype('float32') / 255\n",
    "\n",
    "random_sample_indices = random.sample(range(train_images.shape[0]), 40000)\n",
    "train_images_25 = train_images[random_sample_indices]\n",
    "train_labels_25 = train_labels[random_sample_indices]\n",
    "\n",
    "\n",
    "train_images_final_80, validation_images_final_10, train_labels_final_80,validation_labels_final_10 = train_test_split(train_images_25, train_labels_25, test_size=0.3, random_state=42)\n",
    "\n",
    "print(\"Final train dataset size: \", train_images_final_80.shape)\n",
    "print(\"Final validation dataset size: \", validation_images_final_10.shape)\n"
   ]
  },
  {
   "cell_type": "code",
   "execution_count": 51,
   "metadata": {},
   "outputs": [
    {
     "name": "stdout",
     "output_type": "stream",
     "text": [
      "LR Accuracy MNIST for D=5: 0.6875\n"
     ]
    }
   ],
   "source": [
    "\n",
    "pca = PCA(5)\n",
    "pca.fit(train_images)\n",
    "projection_train_mnist = pca.transform(train_images)\n",
    "projection_test_mnist = pca.transform(test_images)\n",
    "\n",
    "model = LogisticRegression(max_iter=2000)\n",
    "model.fit(projection_train_mnist, train_labels)\n",
    "\n",
    "accuracy = model.score(projection_test_mnist, test_labels)\n",
    "print(\"LR Accuracy MNIST for D=5:\", accuracy)\n",
    "\n"
   ]
  },
  {
   "cell_type": "code",
   "execution_count": 52,
   "metadata": {},
   "outputs": [
    {
     "name": "stdout",
     "output_type": "stream",
     "text": [
      "original shape: (28000, 784)\n",
      "Projection shape:  (28000, 20)\n",
      "LR Accuracy MNIST for D=20: 0.8802\n"
     ]
    }
   ],
   "source": [
    "pca = PCA(20)\n",
    "pca.fit(train_images_final_80)\n",
    "projection_train_mnist = pca.transform(train_images_final_80)\n",
    "\n",
    "print(\"original shape:\", train_images_final_80.shape)\n",
    "print(\"Projection shape: \",projection_train_mnist.shape)\n",
    "\n",
    "projection_test_mnist = pca.transform(test_images)\n",
    "\n",
    "model = LogisticRegression(max_iter=2500)\n",
    "model.fit(projection_train_mnist, train_labels_final_80)\n",
    "\n",
    "accuracy = model.score(projection_test_mnist, test_labels)\n",
    "print(\"LR Accuracy MNIST for D=20:\", accuracy)\n",
    "\n"
   ]
  },
  {
   "cell_type": "code",
   "execution_count": 53,
   "metadata": {},
   "outputs": [
    {
     "name": "stdout",
     "output_type": "stream",
     "text": [
      "(921, 57)\n"
     ]
    }
   ],
   "source": [
    "import pandas as pd\n",
    "from sklearn.preprocessing import StandardScaler\n",
    "from sklearn.metrics import accuracy_score\n",
    "\n",
    "dataset_path = 'spambase.data'\n",
    "df = pd.read_csv(dataset_path, header=None)\n",
    "\n",
    "X = df.iloc[:, :-1]  # All columns except the last one\n",
    "y = df.iloc[:, -1]   # Last column\n",
    "\n",
    "X_train, X_test, y_train, y_test = train_test_split(X, y, test_size=0.2, random_state=42)\n",
    "\n",
    "scaler = StandardScaler()\n",
    "\n",
    "spambase_train_norm = scaler.fit_transform(X_train)\n",
    "spambase_test_norm = scaler.transform(X_test)\n",
    "\n",
    "print(spambase_test_norm.shape)"
   ]
  },
  {
   "cell_type": "code",
   "execution_count": 54,
   "metadata": {},
   "outputs": [
    {
     "name": "stdout",
     "output_type": "stream",
     "text": [
      "(3680, 5)\n",
      "LR Accuracy Spambase with D=5: 0.8783930510314875\n"
     ]
    }
   ],
   "source": [
    "pca = PCA(5)\n",
    "pca.fit(spambase_train_norm)\n",
    "\n",
    "projection_train_mnist = pca.transform(spambase_train_norm)\n",
    "projection_test_mnist = pca.transform(spambase_test_norm)\n",
    "\n",
    "print(projection_train_mnist.shape)\n",
    "\n",
    "model = LogisticRegression(solver='saga', multi_class='multinomial', max_iter=200)\n",
    "model.fit(projection_train_mnist, y_train)\n",
    "\n",
    "accuracy_spambase_pca = model.score(projection_test_mnist, y_test)\n",
    "print(\"LR Accuracy Spambase with D=5:\", accuracy_spambase_pca)"
   ]
  },
  {
   "cell_type": "code",
   "execution_count": 56,
   "metadata": {},
   "outputs": [
    {
     "name": "stdout",
     "output_type": "stream",
     "text": [
      "LR Accuracy Spambase with logistic reg: 0.9196525515743756\n",
      "Accuracy for D =  19  : 0.9077090119435396\n",
      "Accuracy for D =  18  : 0.9011943539630836\n",
      "Accuracy for D =  17  : 0.9022801302931596\n",
      "Accuracy for D =  16  : 0.9011943539630836\n",
      "Accuracy for D =  15  : 0.9044516829533116\n",
      "Accuracy for D =  14  : 0.8979370249728555\n",
      "Accuracy for D =  13  : 0.8968512486427795\n",
      "Accuracy for D =  12  : 0.8979370249728555\n",
      "Accuracy for D =  11  : 0.9001085776330076\n",
      "Accuracy for D =  10  : 0.8979370249728555\n",
      "Accuracy for D =  9  : 0.8914223669923995\n",
      "Accuracy for D =  8  : 0.8870792616720955\n",
      "Accuracy for D =  7  : 0.8794788273615635\n",
      "Accuracy for D =  6  : 0.8773072747014115\n",
      "Accuracy for D =  5  : 0.8783930510314875\n",
      "Accuracy for D =  4  : 0.8762214983713354\n",
      "Accuracy for D =  3  : 0.8675352877307275\n",
      "Accuracy for D =  2  : 0.8686210640608035\n",
      "Accuracy for D =  1  : 0.8447339847991314\n",
      "Smallest D:  19\n"
     ]
    }
   ],
   "source": [
    "model = LogisticRegression()\n",
    "model.fit(spambase_train_norm, y_train)\n",
    "\n",
    "accuracy_spambase = model.score(spambase_test_norm, y_test)\n",
    "print(\"LR Accuracy Spambase with logistic reg:\", accuracy_spambase)\n",
    "\n",
    "smallest_d = 101\n",
    "min_delta = 1000\n",
    "\n",
    "for d in reversed(range(1, 20)):\n",
    "    pca = PCA(d)\n",
    "    pca.fit(spambase_train_norm)\n",
    "    projection_train = pca.transform(spambase_train_norm)\n",
    "    projection_test = pca.transform(spambase_test_norm)\n",
    "\n",
    "    model = LogisticRegression(solver='saga', multi_class='multinomial', max_iter=1500)\n",
    "    model.fit(projection_train, y_train)\n",
    "\n",
    "    accuracy_d = model.score(projection_test, y_test)\n",
    "    print(\"Accuracy for D = \", d, \" :\", accuracy_d)\n",
    "    if abs(accuracy_spambase-accuracy_d) < min_delta:\n",
    "        min_delta = abs(accuracy_spambase-accuracy_d)\n",
    "        smallest_d = d\n",
    "\n",
    "print(\"Smallest D: \", smallest_d)"
   ]
  }
 ],
 "metadata": {
  "kernelspec": {
   "display_name": "Python 3",
   "language": "python",
   "name": "python3"
  },
  "language_info": {
   "codemirror_mode": {
    "name": "ipython",
    "version": 3
   },
   "file_extension": ".py",
   "mimetype": "text/x-python",
   "name": "python",
   "nbconvert_exporter": "python",
   "pygments_lexer": "ipython3",
   "version": "3.9.6"
  },
  "orig_nbformat": 4
 },
 "nbformat": 4,
 "nbformat_minor": 2
}
