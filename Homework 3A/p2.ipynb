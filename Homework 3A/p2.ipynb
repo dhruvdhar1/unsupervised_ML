{
 "cells": [
  {
   "cell_type": "code",
   "execution_count": 2,
   "metadata": {},
   "outputs": [
    {
     "name": "stdout",
     "output_type": "stream",
     "text": [
      "Final train dataset size:  (18000, 784)\n",
      "Final validation dataset size:  (2000, 784)\n"
     ]
    }
   ],
   "source": [
    "import numpy as np\n",
    "import keras\n",
    "import random\n",
    "from keras.datasets import mnist\n",
    "from sklearn.linear_model import LogisticRegression\n",
    "from sklearn.model_selection import train_test_split\n",
    "from sklearn.metrics import accuracy_score\n",
    "\n",
    "(train_images, train_labels), (test_images, test_labels) = keras.datasets.mnist.load_data()\n",
    "\n",
    "#reshaping images\n",
    "train_images = np.reshape(train_images, (-1, 784))\n",
    "test_images = np.reshape(test_images, (-1, 784))\n",
    "\n",
    "# normalize\n",
    "train_images = train_images.astype('float32') / 255\n",
    "test_images = test_images.astype('float32') / 255\n",
    "\n",
    "random_sample_indices = random.sample(range(train_images.shape[0]), 20000)\n",
    "train_images_25 = train_images[random_sample_indices]\n",
    "train_labels_25 = train_labels[random_sample_indices]\n",
    "\n",
    "\n",
    "train_images_final_80, validation_images_final_10, train_labels_final_80,validation_labels_final_10 = train_test_split(train_images_25, train_labels_25, test_size=0.1, random_state=42)\n",
    "\n",
    "print(\"Final train dataset size: \", train_images_final_80.shape)\n",
    "print(\"Final validation dataset size: \", validation_images_final_10.shape)\n"
   ]
  },
  {
   "cell_type": "code",
   "execution_count": 3,
   "metadata": {},
   "outputs": [
    {
     "name": "stdout",
     "output_type": "stream",
     "text": [
      "(18000, 5)\n",
      "LR Accuracy MNIST with D=5: 0.6874\n"
     ]
    }
   ],
   "source": [
    "from sklearn.decomposition import PCA\n",
    "\n",
    "pca = PCA(n_components=5)\n",
    "projection_train = pca.fit_transform(train_images_final_80)\n",
    "projection_test = pca.transform(test_images)\n",
    "\n",
    "print(projection_train.shape)\n",
    "\n",
    "model = LogisticRegression(solver='saga', multi_class='multinomial')\n",
    "model.fit(projection_train, train_labels_final_80)\n",
    "\n",
    "accuracy = model.score(projection_test, test_labels)\n",
    "print(\"LR Accuracy MNIST with D=5:\", accuracy) #68%"
   ]
  },
  {
   "cell_type": "code",
   "execution_count": 4,
   "metadata": {},
   "outputs": [
    {
     "name": "stdout",
     "output_type": "stream",
     "text": [
      "(18000, 20)\n",
      "LR Accuracy MNIST with D=20: 0.8784\n"
     ]
    }
   ],
   "source": [
    "pca = PCA(n_components=20)\n",
    "projection_train = pca.fit_transform(train_images_final_80)\n",
    "projection_test = pca.transform(test_images)\n",
    "\n",
    "print(projection_train.shape)\n",
    "\n",
    "model = LogisticRegression(solver='saga', multi_class='multinomial')\n",
    "model.fit(projection_train, train_labels_final_80)\n",
    "\n",
    "accuracy = model.score(projection_test, test_labels)\n",
    "print(\"LR Accuracy MNIST with D=20:\", accuracy) #66%"
   ]
  },
  {
   "attachments": {},
   "cell_type": "markdown",
   "metadata": {},
   "source": [
    "Spambase"
   ]
  },
  {
   "cell_type": "code",
   "execution_count": 5,
   "metadata": {},
   "outputs": [
    {
     "name": "stdout",
     "output_type": "stream",
     "text": [
      "(921, 57)\n"
     ]
    }
   ],
   "source": [
    "import pandas as pd\n",
    "from sklearn.preprocessing import StandardScaler\n",
    "from sklearn.metrics import accuracy_score\n",
    "\n",
    "dataset_path = 'spambase.data'\n",
    "df = pd.read_csv(dataset_path, header=None)\n",
    "\n",
    "X = df.iloc[:, :-1]  # All columns except the last one\n",
    "y = df.iloc[:, -1]   # Last column\n",
    "\n",
    "X_train, X_test, y_train, y_test = train_test_split(X, y, test_size=0.2, random_state=42)\n",
    "\n",
    "scaler = StandardScaler()\n",
    "\n",
    "spambase_train_norm = scaler.fit_transform(X_train)\n",
    "spambase_test_norm = scaler.transform(X_test)\n",
    "\n",
    "print(spambase_test_norm.shape)"
   ]
  },
  {
   "cell_type": "code",
   "execution_count": 6,
   "metadata": {},
   "outputs": [
    {
     "name": "stdout",
     "output_type": "stream",
     "text": [
      "(3680, 5)\n",
      "LR Accuracy Spambase with D=5: 0.8773072747014115\n"
     ]
    }
   ],
   "source": [
    "pca = PCA(n_components=5)\n",
    "projection_train = pca.fit_transform(spambase_train_norm)\n",
    "projection_test = pca.transform(spambase_test_norm)\n",
    "\n",
    "print(projection_train.shape)\n",
    "\n",
    "model = LogisticRegression(solver='saga', multi_class='multinomial', max_iter=200)\n",
    "model.fit(projection_train, y_train)\n",
    "\n",
    "accuracy_spambase_pca = model.score(projection_test, y_test)\n",
    "print(\"LR Accuracy Spambase with D=5:\", accuracy_spambase_pca)"
   ]
  },
  {
   "cell_type": "code",
   "execution_count": 7,
   "metadata": {},
   "outputs": [
    {
     "name": "stdout",
     "output_type": "stream",
     "text": [
      "LR Accuracy Spambase with logistic reg: 0.9196525515743756\n"
     ]
    },
    {
     "name": "stderr",
     "output_type": "stream",
     "text": [
      "/Users/dhruvdhar/Library/Python/3.9/lib/python/site-packages/sklearn/linear_model/_sag.py:350: ConvergenceWarning: The max_iter was reached which means the coef_ did not converge\n",
      "  warnings.warn(\n",
      "/Users/dhruvdhar/Library/Python/3.9/lib/python/site-packages/sklearn/linear_model/_sag.py:350: ConvergenceWarning: The max_iter was reached which means the coef_ did not converge\n",
      "  warnings.warn(\n"
     ]
    },
    {
     "name": "stdout",
     "output_type": "stream",
     "text": [
      "Smallest D:  26\n"
     ]
    }
   ],
   "source": [
    "model = LogisticRegression()\n",
    "model.fit(spambase_train_norm, y_train)\n",
    "\n",
    "accuracy_spambase = model.score(spambase_test_norm, y_test)\n",
    "print(\"LR Accuracy Spambase with logistic reg:\", accuracy_spambase)\n",
    "\n",
    "smallest_d = 101\n",
    "min_delta = 1000\n",
    "\n",
    "for d in reversed(range(1, 40)):\n",
    "    pca = PCA(n_components=d)\n",
    "    projection_train = pca.fit_transform(spambase_train_norm)\n",
    "    projection_test = pca.transform(spambase_test_norm)\n",
    "\n",
    "    model = LogisticRegression(solver='saga', multi_class='multinomial', max_iter=1500)\n",
    "    model.fit(projection_train, y_train)\n",
    "\n",
    "    accuracy_d = model.score(projection_test, y_test)\n",
    "    # print(\"Accuracy for D = \", d, \" :\", accuracy_d)\n",
    "    if abs(accuracy_spambase-accuracy_d) < min_delta:\n",
    "        min_delta = abs(accuracy_spambase-accuracy_d)\n",
    "        smallest_d = d\n",
    "\n",
    "print(\"Smallest D: \", smallest_d)"
   ]
  }
 ],
 "metadata": {
  "kernelspec": {
   "display_name": "Python 3",
   "language": "python",
   "name": "python3"
  },
  "language_info": {
   "codemirror_mode": {
    "name": "ipython",
    "version": 3
   },
   "file_extension": ".py",
   "mimetype": "text/x-python",
   "name": "python",
   "nbconvert_exporter": "python",
   "pygments_lexer": "ipython3",
   "version": "3.9.6"
  },
  "orig_nbformat": 4
 },
 "nbformat": 4,
 "nbformat_minor": 2
}
