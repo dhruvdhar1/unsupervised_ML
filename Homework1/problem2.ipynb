{
 "cells": [
  {
   "cell_type": "code",
   "execution_count": null,
   "metadata": {},
   "outputs": [],
   "source": [
    "import time\n",
    "start_time = time.time()\n",
    "\n",
    "relation_name = \"kosarak\"\n",
    "\n",
    "inputFile = open('Kosarak.dat', 'r')\n",
    "outputFile = open('parsed_p2.arff', 'w')\n",
    "\n",
    "num_lines = len(inputFile.readlines())\n",
    "outputFile.write(\"@RELATION \" + relation_name + \"\\n\\n\")\n",
    "\n",
    "for i in range(41270):\n",
    "    outputFile.write(\"@ATTRIBUTE \" + \"news\" + str(i) + \" {0,1}\\n\")\n",
    "\n",
    "outputFile.write(\"\\n@DATA\\n\")\n",
    "\n",
    "inputFile = open('Kosarak.dat', 'r')\n",
    "for line in inputFile:\n",
    "    clicks = line.strip().split(\" \")\n",
    "    parsed_line_str = \"{\"\n",
    "    click_set = set()\n",
    "    sorted_list = []\n",
    "    for click in clicks:\n",
    "        click_int_reindexed = int(click) - 1;\n",
    "        click_set.add(click_int_reindexed)\n",
    "\n",
    "    sorted_list.extend(click_set)\n",
    "    sorted_list.sort()\n",
    "    for click in sorted_list:\n",
    "        parsed_line_str += str(click) + \" 1,\"\n",
    "\n",
    "    final_str = parsed_line_str[:len(parsed_line_str)-1] + \"}\\n\"\n",
    "    outputFile.write(final_str)\n",
    "    # print(\"parsed line: \", final_str)\n",
    "\n",
    "print(\"num lines: \", num_lines)\n",
    "print(\"--- %s seconds ---\" % (time.time() - start_time))"
   ]
  },
  {
   "attachments": {},
   "cell_type": "markdown",
   "metadata": {},
   "source": [
    "The parsed .arff file took about 3 seconds to load into weka explorer on an M1 macbook.\n",
    "\n",
    "These were the association rules computed by weka:\n",
    "1. [news10=1, news217=1, news147=1]: 50098 ==> [news5=1]: 49866   <conf:(1)> lift:(1.64) lev:(0.02) conv:(84.4) \n",
    "2. [news10=1, news147=1]: 55759 ==> [news5=1]: 55230   <conf:(0.99)> lift:(1.63) lev:(0.02) conv:(41.3) \n",
    "\n",
    "After running thealgorithm 5 times, i noticed that it takes about 2 seconds to compute the result.\n",
    "Parsing and loading takes an average of 8 seconds combined which is more than the time taken to run the algorithm."
   ]
  }
 ],
 "metadata": {
  "language_info": {
   "name": "python"
  },
  "orig_nbformat": 4
 },
 "nbformat": 4,
 "nbformat_minor": 2
}
