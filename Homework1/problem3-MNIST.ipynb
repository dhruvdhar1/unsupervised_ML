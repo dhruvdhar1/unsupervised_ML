{
 "cells": [
  {
   "cell_type": "code",
   "execution_count": null,
   "metadata": {},
   "outputs": [],
   "source": []
  },
  {
   "cell_type": "code",
   "execution_count": 13,
   "metadata": {},
   "outputs": [
    {
     "name": "stdout",
     "output_type": "stream",
     "text": [
      "Final train dataset size:  (18000, 784)\n",
      "Final validation dataset size:  (2000, 784)\n"
     ]
    }
   ],
   "source": [
    "import numpy as np\n",
    "import editdistance\n",
    "import keras\n",
    "import random\n",
    "from keras.datasets import mnist\n",
    "from sklearn.model_selection import train_test_split\n",
    "\n",
    "(train_images, train_labels), (test_images, test_labels) = keras.datasets.mnist.load_data()\n",
    "\n",
    "#reshaping images\n",
    "train_images = np.reshape(train_images, (-1, 784))\n",
    "test_images = np.reshape(test_images, (-1, 784))\n",
    "\n",
    "# normalize\n",
    "train_images = train_images.astype('float32') / 255\n",
    "test_images = test_images.astype('float32') / 255\n",
    "\n",
    "random_sample_indices = random.sample(range(train_images.shape[0]), 20000)\n",
    "train_images_25 = train_images[random_sample_indices]\n",
    "train_labels_25 = train_labels[random_sample_indices]\n",
    "\n",
    "\n",
    "train_images_final_80, validation_images_final_10, train_labels_final_80,validation_labels_final_10 = train_test_split(train_images_25, train_labels_25, test_size=0.1, random_state=42)\n",
    "\n",
    "print(\"Final train dataset size: \", train_images_final_80.shape)\n",
    "print(\"Final validation dataset size: \", validation_images_final_10.shape)\n"
   ]
  },
  {
   "cell_type": "code",
   "execution_count": 180,
   "metadata": {},
   "outputs": [],
   "source": [
    "euclidean_distance_train_mat = np.zeros((len(train_images_final_80), len(train_images_final_80)))\n",
    "\n",
    "for i in range(len(train_images_final_80)):\n",
    "  for j in range(len(train_images_final_80)):\n",
    "    euclidean_distance = np.linalg.norm(train_images_final_80[i] - train_images_final_80[j])\n",
    "    euclidean_distance_train_mat[i][j] = euclidean_distance"
   ]
  },
  {
   "cell_type": "code",
   "execution_count": 181,
   "metadata": {},
   "outputs": [],
   "source": [
    "euclidean_distance_validation_mat = np.zeros((len(validation_images_final_10), len(validation_images_final_10)))\n",
    "\n",
    "for i in range(len(validation_images_final_10)):\n",
    "  for j in range(len(validation_images_final_10)):\n",
    "    euclidean_distance = np.linalg.norm(validation_images_final_10[i] - validation_images_final_10[j])\n",
    "    euclidean_distance_validation_mat[i][j] = euclidean_distance"
   ]
  },
  {
   "cell_type": "code",
   "execution_count": 2,
   "metadata": {},
   "outputs": [
    {
     "name": "stdout",
     "output_type": "stream",
     "text": [
      "(10000, 784)\n"
     ]
    }
   ],
   "source": [
    "euclidean_distance_test_mat = np.zeros((len(test_images), len(test_images)))\n",
    "for i in range(len(test_images)):\n",
    "  for j in range(len(test_images)):\n",
    "    euclidean_distance = np.linalg.norm(test_images[i] - test_images[j])\n",
    "    euclidean_distance_test_mat[i][j] = euclidean_distance"
   ]
  },
  {
   "cell_type": "code",
   "execution_count": null,
   "metadata": {},
   "outputs": [],
   "source": [
    "cosine_similarity_mat = np.zeros((len(train_images_25), len(train_images_25)))\n",
    "for i in range(len(train_images_25)):\n",
    "  for j in range(len(train_images_25)):\n",
    "    cosine_similarity = np.dot(train_images_25[i], train_images_25[j]) / (np.linalg.norm(train_images_25[i]) * np.linalg.norm(train_images_25[j]))\n",
    "    cosine_similarity_mat[i][j] = cosine_similarity"
   ]
  },
  {
   "attachments": {},
   "cell_type": "markdown",
   "metadata": {},
   "source": [
    "#### Calculating edit distance between 2 vectors, taking 0.5 as threshold value"
   ]
  },
  {
   "cell_type": "code",
   "execution_count": 20,
   "metadata": {},
   "outputs": [],
   "source": [
    "def calculate_edit_distance(image1, image2):\n",
    "    differing_pixels = np.sum(np.abs(image1 - image2) >= 0.5)\n",
    "    edit_distance = differing_pixels / 784  # 28x28 = 784 (total number of pixels in MNIST images)\n",
    "    return edit_distance\n",
    "\n",
    "edit_distance_mat = np.zeros((len(train_images_25), len(train_images_25)))\n",
    "for i in range(len(train_images_25)):\n",
    "  for j in range(len(train_images_25)):\n",
    "    distance = calculate_edit_distance(train_images_25[i], train_images_25[j])\n",
    "    # print(\"Edit distance:\", distance)"
   ]
  },
  {
   "cell_type": "code",
   "execution_count": 184,
   "metadata": {},
   "outputs": [],
   "source": [
    "from collections import Counter\n",
    "\n",
    "class KNN:\n",
    "  def __init__(self, k=20):\n",
    "    self.k = k\n",
    "\n",
    "  def fit(self, X, y): #X=train_image, y=train_label\n",
    "    self.X_train = X\n",
    "    self.y_train = y\n",
    "\n",
    "\n",
    "  def predict(self, euclidian_dist_mat):\n",
    "    predictions_list = []\n",
    "\n",
    "    for i in range(len(euclidian_dist_mat)):\n",
    "      k_indices = np.argsort(euclidian_dist_mat[i])[:self.k]\n",
    "      k_nearest_labels = [self.y_train[i] for i in k_indices]\n",
    "      mode = Counter(k_nearest_labels).most_common()\n",
    "      predictions_list.append(mode[0][0])\n",
    "    return predictions_list"
   ]
  },
  {
   "cell_type": "code",
   "execution_count": 213,
   "metadata": {},
   "outputs": [],
   "source": [
    "from sklearn.metrics import accuracy_score\n",
    "clf = KNN(k=20)\n",
    "clf.fit(train_images_final_80, train_labels_final_80)\n",
    "prediction = clf.predict(euclidean_distance_train_mat)\n",
    "#hyper-parameter tuning - validation dataset\n",
    "#grid_serach_cv - sklearn\n"
   ]
  },
  {
   "cell_type": "code",
   "execution_count": 214,
   "metadata": {},
   "outputs": [
    {
     "name": "stdout",
     "output_type": "stream",
     "text": [
      "Train accuracy:  0.9532222222222222\n"
     ]
    }
   ],
   "source": [
    "train_accuracy = accuracy_score(train_labels_final_80, prediction)\n",
    "print(\"Train accuracy: \", train_accuracy)"
   ]
  },
  {
   "cell_type": "code",
   "execution_count": 220,
   "metadata": {},
   "outputs": [
    {
     "name": "stdout",
     "output_type": "stream",
     "text": [
      "Optimum K:  10\n",
      "Validation accuracy:  0.927\n"
     ]
    }
   ],
   "source": [
    "#Performing hyper parameter tuning here to get an optimum k value..\n",
    "optimum_k = -1\n",
    "max_accuracy = 0\n",
    "for i in range(10, 50):\n",
    "    clf2 = KNN(k=i)\n",
    "    clf2.fit(validation_images_final_10, validation_labels_final_10)\n",
    "    prediction2 = clf2.predict(euclidean_distance_validation_mat)\n",
    "    validation_accuracy = accuracy_score(validation_labels_final_10, prediction2)\n",
    "    if validation_accuracy > max_accuracy:\n",
    "        optimum_k = i\n",
    "        max_accuracy = validation_accuracy\n",
    "\n",
    "print(\"Optimum K: \", optimum_k)\n",
    "print(\"Validation accuracy: \", max_accuracy)"
   ]
  },
  {
   "cell_type": "code",
   "execution_count": 222,
   "metadata": {},
   "outputs": [
    {
     "name": "stdout",
     "output_type": "stream",
     "text": [
      "Test accuracy:  0.9643\n"
     ]
    }
   ],
   "source": [
    "clf2 = KNN(k=10)\n",
    "clf2.fit(test_images, test_labels)\n",
    "prediction = clf2.predict(euclidean_distance_test_mat)\n",
    "test_accuracy = accuracy_score(test_labels, prediction)\n",
    "\n",
    "print(\"Test accuracy: \", test_accuracy)"
   ]
  }
 ],
 "metadata": {
  "kernelspec": {
   "display_name": "Python 3",
   "language": "python",
   "name": "python3"
  },
  "language_info": {
   "codemirror_mode": {
    "name": "ipython",
    "version": 3
   },
   "file_extension": ".py",
   "mimetype": "text/x-python",
   "name": "python",
   "nbconvert_exporter": "python",
   "pygments_lexer": "ipython3",
   "version": "3.9.6"
  },
  "orig_nbformat": 4
 },
 "nbformat": 4,
 "nbformat_minor": 2
}
