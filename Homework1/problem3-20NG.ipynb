{
 "cells": [
  {
   "attachments": {},
   "cell_type": "markdown",
   "metadata": {},
   "source": [
    "# Homework 1 P3 and P4 for 20Ng dataset\n",
    "### The below code imports the 20NG dataset, normalizes it and then splits into train, validation and test."
   ]
  },
  {
   "cell_type": "code",
   "execution_count": 30,
   "metadata": {},
   "outputs": [],
   "source": [
    "import numpy as np\n",
    "import random\n",
    "from sklearn.datasets import fetch_20newsgroups\n",
    "from sklearn.feature_extraction.text import TfidfVectorizer, CountVectorizer\n",
    "from sklearn.model_selection import train_test_split\n",
    "\n",
    "newsgroups_train = fetch_20newsgroups(subset='train')\n",
    "newsgroups_test = fetch_20newsgroups(subset='test')\n",
    "\n",
    "vectorizer = TfidfVectorizer(stop_words='english')\n",
    "\n",
    "train_data_vector = vectorizer.fit_transform(newsgroups_train.data)\n",
    "test_data_vector = vectorizer.fit_transform(newsgroups_test.data)\n",
    "\n",
    "train_labels = newsgroups_train.target\n",
    "test_labels = newsgroups_test.target\n",
    "\n",
    "random_sample_indices = random.sample(range(train_data_vector.shape[0]), 3000)\n",
    "train_data_20 = train_data_vector[random_sample_indices]\n",
    "train_labels_20 = train_labels[random_sample_indices]\n",
    "\n",
    "train_data_final_80, validation_data_final_10, train_labels_final_80,validation_labels_final_10 = train_test_split(train_data_20, train_labels_20, test_size=0.1, random_state=42)"
   ]
  },
  {
   "attachments": {},
   "cell_type": "markdown",
   "metadata": {},
   "source": [
    "### The below code calculates the euclidian distance between every newsgroup vector in the training set"
   ]
  },
  {
   "cell_type": "code",
   "execution_count": 31,
   "metadata": {},
   "outputs": [],
   "source": [
    "from sklearn.metrics.pairwise import euclidean_distances\n",
    "euclidian_distances_train = euclidean_distances(train_data_final_80)"
   ]
  },
  {
   "attachments": {},
   "cell_type": "markdown",
   "metadata": {},
   "source": [
    "### The below code calculates the euclidian distance between every newsgroup vector in the validation set"
   ]
  },
  {
   "cell_type": "code",
   "execution_count": 32,
   "metadata": {},
   "outputs": [],
   "source": [
    "euclidian_distances_validation = euclidean_distances(validation_data_final_10)"
   ]
  },
  {
   "attachments": {},
   "cell_type": "markdown",
   "metadata": {},
   "source": [
    "### The below code calculates the euclidian distance between every newsgroup vector in the test set"
   ]
  },
  {
   "cell_type": "code",
   "execution_count": 33,
   "metadata": {},
   "outputs": [],
   "source": [
    "euclidian_distances_test = euclidean_distances(test_data_vector)"
   ]
  },
  {
   "attachments": {},
   "cell_type": "markdown",
   "metadata": {},
   "source": [
    "### The below code calculates the cosine similarity between every newsgroup vector in the training set"
   ]
  },
  {
   "cell_type": "code",
   "execution_count": 34,
   "metadata": {},
   "outputs": [],
   "source": [
    "from sklearn.metrics.pairwise import cosine_similarity\n",
    "cosine_similarity_mat = cosine_similarity(train_data_final_80)"
   ]
  },
  {
   "attachments": {},
   "cell_type": "markdown",
   "metadata": {},
   "source": [
    "### The below code calculates the cosine similarity between every newsgroup vector in the validation set"
   ]
  },
  {
   "cell_type": "code",
   "execution_count": 35,
   "metadata": {},
   "outputs": [],
   "source": [
    "cosine_similarity_mat = cosine_similarity(validation_data_final_10)"
   ]
  },
  {
   "attachments": {},
   "cell_type": "markdown",
   "metadata": {},
   "source": [
    "### The below code calculates the cosine similarity between every newsgroup vector in the test set"
   ]
  },
  {
   "cell_type": "code",
   "execution_count": 36,
   "metadata": {},
   "outputs": [],
   "source": [
    "cosine_similarity_mat = cosine_similarity(test_data_vector)"
   ]
  },
  {
   "cell_type": "code",
   "execution_count": 37,
   "metadata": {},
   "outputs": [
    {
     "name": "stdout",
     "output_type": "stream",
     "text": [
      "129796\n"
     ]
    }
   ],
   "source": [
    "print(train_data_final_80[4].shape[1])"
   ]
  },
  {
   "cell_type": "code",
   "execution_count": 38,
   "metadata": {},
   "outputs": [],
   "source": [
    "num_vectors = train_data_final_80.shape[0]\n",
    "num_features = train_data_final_80[0].shape[1]\n",
    "\n",
    "def calculate_edit_distance(image1, image2):\n",
    "    differing_pixels = np.sum(np.abs(image1 - image2) >= 0.5)\n",
    "    edit_distance = differing_pixels / num_features\n",
    "    return edit_distance\n",
    "\n",
    "edit_distance_mat = np.zeros((num_vectors, num_vectors))\n",
    "for i in range(num_vectors):\n",
    "  for j in range(num_vectors):\n",
    "    distance = calculate_edit_distance(train_data_final_80[i], train_data_final_80[j])\n",
    "    edit_distance_mat[i][j] = distance"
   ]
  },
  {
   "cell_type": "code",
   "execution_count": 43,
   "metadata": {},
   "outputs": [
    {
     "name": "stdout",
     "output_type": "stream",
     "text": [
      "[[0.00000000e+00 0.00000000e+00 0.00000000e+00 ... 0.00000000e+00\n",
      "  7.70439767e-06 0.00000000e+00]\n",
      " [0.00000000e+00 0.00000000e+00 0.00000000e+00 ... 0.00000000e+00\n",
      "  7.70439767e-06 0.00000000e+00]\n",
      " [0.00000000e+00 0.00000000e+00 0.00000000e+00 ... 0.00000000e+00\n",
      "  7.70439767e-06 0.00000000e+00]\n",
      " ...\n",
      " [0.00000000e+00 0.00000000e+00 0.00000000e+00 ... 0.00000000e+00\n",
      "  7.70439767e-06 0.00000000e+00]\n",
      " [7.70439767e-06 7.70439767e-06 7.70439767e-06 ... 7.70439767e-06\n",
      "  0.00000000e+00 7.70439767e-06]\n",
      " [0.00000000e+00 0.00000000e+00 0.00000000e+00 ... 0.00000000e+00\n",
      "  7.70439767e-06 0.00000000e+00]]\n"
     ]
    }
   ],
   "source": [
    "print(edit_distance_mat)"
   ]
  },
  {
   "attachments": {},
   "cell_type": "markdown",
   "metadata": {},
   "source": [
    "### The below code is an implementation of KNN. It uses the precomputed distance matrix to predict labels."
   ]
  },
  {
   "cell_type": "code",
   "execution_count": 39,
   "metadata": {},
   "outputs": [],
   "source": [
    "from collections import Counter\n",
    "\n",
    "class KNN:\n",
    "  def __init__(self, k=20):\n",
    "    self.k = k\n",
    "\n",
    "  def fit(self, X, y): #X=news_data, y=news_label\n",
    "    self.X_train = X\n",
    "    self.y_train = y\n",
    "\n",
    "\n",
    "  def predict(self, euclidian_dist_mat):\n",
    "    predictions_list = []\n",
    "\n",
    "    for i in range(len(euclidian_dist_mat)):\n",
    "      k_indices = np.argsort(euclidian_dist_mat[i])[:self.k]\n",
    "      k_nearest_labels = [self.y_train[i] for i in k_indices]\n",
    "      mode = Counter(k_nearest_labels).most_common()\n",
    "      predictions_list.append(mode[0][0])\n",
    "    return predictions_list"
   ]
  },
  {
   "attachments": {},
   "cell_type": "markdown",
   "metadata": {},
   "source": [
    "### Training data on the implemented KNN and measuring accuracy"
   ]
  },
  {
   "cell_type": "code",
   "execution_count": 40,
   "metadata": {},
   "outputs": [
    {
     "name": "stdout",
     "output_type": "stream",
     "text": [
      "Train accuracy:  0.8151851851851852\n"
     ]
    }
   ],
   "source": [
    "from sklearn.metrics import accuracy_score\n",
    "clf = KNN(k=20)\n",
    "clf.fit(train_data_final_80, train_labels_final_80)\n",
    "prediction = clf.predict(euclidian_distances_train)\n",
    "train_accuracy = accuracy_score(train_labels_final_80, prediction)\n",
    "print(\"Train accuracy: \", train_accuracy)"
   ]
  },
  {
   "attachments": {},
   "cell_type": "markdown",
   "metadata": {},
   "source": [
    "### Running KNN on the validation, and performing hyper-parameter tuning to find optimum k value."
   ]
  },
  {
   "cell_type": "code",
   "execution_count": 41,
   "metadata": {},
   "outputs": [
    {
     "name": "stdout",
     "output_type": "stream",
     "text": [
      "Optimum K:  10\n",
      "validation accuracy:  0.7833333333333333\n"
     ]
    }
   ],
   "source": [
    "#Performing hyper parameter tuning here to get an optimum k value..\n",
    "optimum_k = -1\n",
    "max_accuracy = 0\n",
    "for i in range(10, 50):\n",
    "    clf2 = KNN(k=10)\n",
    "    clf2.fit(validation_data_final_10, validation_labels_final_10)\n",
    "    prediction = clf2.predict(euclidian_distances_validation)\n",
    "    validation_accuracy = accuracy_score(validation_labels_final_10, prediction)\n",
    "    if validation_accuracy > max_accuracy:\n",
    "            optimum_k = i\n",
    "            max_accuracy = validation_accuracy\n",
    "\n",
    "print(\"Optimum K: \", optimum_k)\n",
    "print(\"validation accuracy: \", max_accuracy)"
   ]
  },
  {
   "attachments": {},
   "cell_type": "markdown",
   "metadata": {},
   "source": [
    "### Running KNN on test data and measuring accuracy"
   ]
  },
  {
   "cell_type": "code",
   "execution_count": 42,
   "metadata": {},
   "outputs": [
    {
     "name": "stdout",
     "output_type": "stream",
     "text": [
      "Test accuracy:  0.8648433351035582\n"
     ]
    }
   ],
   "source": [
    "clf3 = KNN(k=10)\n",
    "clf3.fit(test_data_vector, test_labels)\n",
    "prediction3 = clf3.predict(euclidian_distances_test)\n",
    "test_accuracy = accuracy_score(test_labels, prediction3)\n",
    "print(\"Test accuracy: \", test_accuracy)"
   ]
  }
 ],
 "metadata": {
  "kernelspec": {
   "display_name": "Python 3",
   "language": "python",
   "name": "python3"
  },
  "language_info": {
   "codemirror_mode": {
    "name": "ipython",
    "version": 3
   },
   "file_extension": ".py",
   "mimetype": "text/x-python",
   "name": "python",
   "nbconvert_exporter": "python",
   "pygments_lexer": "ipython3",
   "version": "3.9.6"
  },
  "orig_nbformat": 4
 },
 "nbformat": 4,
 "nbformat_minor": 2
}
